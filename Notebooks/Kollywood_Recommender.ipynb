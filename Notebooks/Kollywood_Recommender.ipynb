{
  "cells": [
    {
      "cell_type": "markdown",
      "source": [
        "\n",
        "\n",
        ">Kollywood Movie Recommender Notebook by\n",
        "\n",
        "> Poojha M - Artificial Intelligence and Data Science\n",
        "\n",
        "\n",
        "\n",
        "\n",
        "        \n",
        "\n"
      ],
      "metadata": {
        "id": "9sKPWqVv6TJB"
      },
      "id": "9sKPWqVv6TJB"
    },
    {
      "cell_type": "code",
      "execution_count": 1,
      "id": "937efd91",
      "metadata": {
        "id": "937efd91"
      },
      "outputs": [],
      "source": [
        "import numpy as np\n",
        "import pandas as pd\n",
        "import matplotlib.pyplot as plt"
      ]
    },
    {
      "cell_type": "code",
      "source": [
        "from google.colab import files\n",
        "uploaded = files.upload()"
      ],
      "metadata": {
        "colab": {
          "base_uri": "https://localhost:8080/",
          "height": 73
        },
        "id": "MgBj0J8Rk6an",
        "outputId": "b401f632-b3a3-41d0-97c7-d5ec980ecb10"
      },
      "id": "MgBj0J8Rk6an",
      "execution_count": 2,
      "outputs": [
        {
          "output_type": "display_data",
          "data": {
            "text/plain": [
              "<IPython.core.display.HTML object>"
            ],
            "text/html": [
              "\n",
              "     <input type=\"file\" id=\"files-21f5f714-a01b-469f-b20f-28be195e8382\" name=\"files[]\" multiple disabled\n",
              "        style=\"border:none\" />\n",
              "     <output id=\"result-21f5f714-a01b-469f-b20f-28be195e8382\">\n",
              "      Upload widget is only available when the cell has been executed in the\n",
              "      current browser session. Please rerun this cell to enable.\n",
              "      </output>\n",
              "      <script>// Copyright 2017 Google LLC\n",
              "//\n",
              "// Licensed under the Apache License, Version 2.0 (the \"License\");\n",
              "// you may not use this file except in compliance with the License.\n",
              "// You may obtain a copy of the License at\n",
              "//\n",
              "//      http://www.apache.org/licenses/LICENSE-2.0\n",
              "//\n",
              "// Unless required by applicable law or agreed to in writing, software\n",
              "// distributed under the License is distributed on an \"AS IS\" BASIS,\n",
              "// WITHOUT WARRANTIES OR CONDITIONS OF ANY KIND, either express or implied.\n",
              "// See the License for the specific language governing permissions and\n",
              "// limitations under the License.\n",
              "\n",
              "/**\n",
              " * @fileoverview Helpers for google.colab Python module.\n",
              " */\n",
              "(function(scope) {\n",
              "function span(text, styleAttributes = {}) {\n",
              "  const element = document.createElement('span');\n",
              "  element.textContent = text;\n",
              "  for (const key of Object.keys(styleAttributes)) {\n",
              "    element.style[key] = styleAttributes[key];\n",
              "  }\n",
              "  return element;\n",
              "}\n",
              "\n",
              "// Max number of bytes which will be uploaded at a time.\n",
              "const MAX_PAYLOAD_SIZE = 100 * 1024;\n",
              "\n",
              "function _uploadFiles(inputId, outputId) {\n",
              "  const steps = uploadFilesStep(inputId, outputId);\n",
              "  const outputElement = document.getElementById(outputId);\n",
              "  // Cache steps on the outputElement to make it available for the next call\n",
              "  // to uploadFilesContinue from Python.\n",
              "  outputElement.steps = steps;\n",
              "\n",
              "  return _uploadFilesContinue(outputId);\n",
              "}\n",
              "\n",
              "// This is roughly an async generator (not supported in the browser yet),\n",
              "// where there are multiple asynchronous steps and the Python side is going\n",
              "// to poll for completion of each step.\n",
              "// This uses a Promise to block the python side on completion of each step,\n",
              "// then passes the result of the previous step as the input to the next step.\n",
              "function _uploadFilesContinue(outputId) {\n",
              "  const outputElement = document.getElementById(outputId);\n",
              "  const steps = outputElement.steps;\n",
              "\n",
              "  const next = steps.next(outputElement.lastPromiseValue);\n",
              "  return Promise.resolve(next.value.promise).then((value) => {\n",
              "    // Cache the last promise value to make it available to the next\n",
              "    // step of the generator.\n",
              "    outputElement.lastPromiseValue = value;\n",
              "    return next.value.response;\n",
              "  });\n",
              "}\n",
              "\n",
              "/**\n",
              " * Generator function which is called between each async step of the upload\n",
              " * process.\n",
              " * @param {string} inputId Element ID of the input file picker element.\n",
              " * @param {string} outputId Element ID of the output display.\n",
              " * @return {!Iterable<!Object>} Iterable of next steps.\n",
              " */\n",
              "function* uploadFilesStep(inputId, outputId) {\n",
              "  const inputElement = document.getElementById(inputId);\n",
              "  inputElement.disabled = false;\n",
              "\n",
              "  const outputElement = document.getElementById(outputId);\n",
              "  outputElement.innerHTML = '';\n",
              "\n",
              "  const pickedPromise = new Promise((resolve) => {\n",
              "    inputElement.addEventListener('change', (e) => {\n",
              "      resolve(e.target.files);\n",
              "    });\n",
              "  });\n",
              "\n",
              "  const cancel = document.createElement('button');\n",
              "  inputElement.parentElement.appendChild(cancel);\n",
              "  cancel.textContent = 'Cancel upload';\n",
              "  const cancelPromise = new Promise((resolve) => {\n",
              "    cancel.onclick = () => {\n",
              "      resolve(null);\n",
              "    };\n",
              "  });\n",
              "\n",
              "  // Wait for the user to pick the files.\n",
              "  const files = yield {\n",
              "    promise: Promise.race([pickedPromise, cancelPromise]),\n",
              "    response: {\n",
              "      action: 'starting',\n",
              "    }\n",
              "  };\n",
              "\n",
              "  cancel.remove();\n",
              "\n",
              "  // Disable the input element since further picks are not allowed.\n",
              "  inputElement.disabled = true;\n",
              "\n",
              "  if (!files) {\n",
              "    return {\n",
              "      response: {\n",
              "        action: 'complete',\n",
              "      }\n",
              "    };\n",
              "  }\n",
              "\n",
              "  for (const file of files) {\n",
              "    const li = document.createElement('li');\n",
              "    li.append(span(file.name, {fontWeight: 'bold'}));\n",
              "    li.append(span(\n",
              "        `(${file.type || 'n/a'}) - ${file.size} bytes, ` +\n",
              "        `last modified: ${\n",
              "            file.lastModifiedDate ? file.lastModifiedDate.toLocaleDateString() :\n",
              "                                    'n/a'} - `));\n",
              "    const percent = span('0% done');\n",
              "    li.appendChild(percent);\n",
              "\n",
              "    outputElement.appendChild(li);\n",
              "\n",
              "    const fileDataPromise = new Promise((resolve) => {\n",
              "      const reader = new FileReader();\n",
              "      reader.onload = (e) => {\n",
              "        resolve(e.target.result);\n",
              "      };\n",
              "      reader.readAsArrayBuffer(file);\n",
              "    });\n",
              "    // Wait for the data to be ready.\n",
              "    let fileData = yield {\n",
              "      promise: fileDataPromise,\n",
              "      response: {\n",
              "        action: 'continue',\n",
              "      }\n",
              "    };\n",
              "\n",
              "    // Use a chunked sending to avoid message size limits. See b/62115660.\n",
              "    let position = 0;\n",
              "    do {\n",
              "      const length = Math.min(fileData.byteLength - position, MAX_PAYLOAD_SIZE);\n",
              "      const chunk = new Uint8Array(fileData, position, length);\n",
              "      position += length;\n",
              "\n",
              "      const base64 = btoa(String.fromCharCode.apply(null, chunk));\n",
              "      yield {\n",
              "        response: {\n",
              "          action: 'append',\n",
              "          file: file.name,\n",
              "          data: base64,\n",
              "        },\n",
              "      };\n",
              "\n",
              "      let percentDone = fileData.byteLength === 0 ?\n",
              "          100 :\n",
              "          Math.round((position / fileData.byteLength) * 100);\n",
              "      percent.textContent = `${percentDone}% done`;\n",
              "\n",
              "    } while (position < fileData.byteLength);\n",
              "  }\n",
              "\n",
              "  // All done.\n",
              "  yield {\n",
              "    response: {\n",
              "      action: 'complete',\n",
              "    }\n",
              "  };\n",
              "}\n",
              "\n",
              "scope.google = scope.google || {};\n",
              "scope.google.colab = scope.google.colab || {};\n",
              "scope.google.colab._files = {\n",
              "  _uploadFiles,\n",
              "  _uploadFilesContinue,\n",
              "};\n",
              "})(self);\n",
              "</script> "
            ]
          },
          "metadata": {}
        },
        {
          "output_type": "stream",
          "name": "stdout",
          "text": [
            "Saving Kollywood Movie Dataset (2011 - 2017).csv to Kollywood Movie Dataset (2011 - 2017).csv\n"
          ]
        }
      ]
    },
    {
      "cell_type": "code",
      "execution_count": 3,
      "id": "6eb20d1b",
      "metadata": {
        "id": "6eb20d1b"
      },
      "outputs": [],
      "source": [
        "df=pd.read_csv(\"Kollywood Movie Dataset (2011 - 2017).csv\")"
      ]
    },
    {
      "cell_type": "code",
      "execution_count": 4,
      "id": "61bac020",
      "metadata": {
        "colab": {
          "base_uri": "https://localhost:8080/",
          "height": 250
        },
        "id": "61bac020",
        "outputId": "1c177924-e8f5-4454-cede-563b8be004a2"
      },
      "outputs": [
        {
          "output_type": "execute_result",
          "data": {
            "text/plain": [
              "   Release Year             Title Language          Director  \\\n",
              "0          2011           Venghai    Tamil              Hari   \n",
              "1          2011  Deiva Thirumagal    Tamil       A. L. Vijay   \n",
              "2          2011          Kanchana    Tamil  Raghava Lawrence   \n",
              "3          2011         Karungali    Tamil        Kalanjiyam   \n",
              "4          2011            Veppam    Tamil   Anjana Ali Khan   \n",
              "\n",
              "                                                Cast          Genre  \\\n",
              "0                Dhanush, Tamannaah Bhatia, Rajkiran          drama   \n",
              "1      Vikram, Anushka Shetty, Amala Paul, Baby Sara          drama   \n",
              "2      Raghava Lawrence, R. Sarathkumar, Lakshmi Rai  comedy horror   \n",
              "3  Kalanjiyam, Anjali, Srinivas, Sunitha Varma, A...          drama   \n",
              "4   Karthik Kumar, Nani, Nithya Menen, Bindu Madhavi          drama   \n",
              "\n",
              "                                                Plot  Rating  \n",
              "0  Veera Pandi (Raj Kiran) is a powerful and rich...     4.7  \n",
              "1  Krishna (Vikram) is intellectually disabled an...     8.1  \n",
              "2  Raghava (Lawrence Raghavendra) is a typical jo...     6.6  \n",
              "3  Kanimozhi[2](Sunitha Verma), a doctor by profe...     5.5  \n",
              "4  The film starts by showing a girl named Revath...     4.8  "
            ],
            "text/html": [
              "\n",
              "  <div id=\"df-ce1a864d-da54-448f-9ca0-ece9379abdab\">\n",
              "    <div class=\"colab-df-container\">\n",
              "      <div>\n",
              "<style scoped>\n",
              "    .dataframe tbody tr th:only-of-type {\n",
              "        vertical-align: middle;\n",
              "    }\n",
              "\n",
              "    .dataframe tbody tr th {\n",
              "        vertical-align: top;\n",
              "    }\n",
              "\n",
              "    .dataframe thead th {\n",
              "        text-align: right;\n",
              "    }\n",
              "</style>\n",
              "<table border=\"1\" class=\"dataframe\">\n",
              "  <thead>\n",
              "    <tr style=\"text-align: right;\">\n",
              "      <th></th>\n",
              "      <th>Release Year</th>\n",
              "      <th>Title</th>\n",
              "      <th>Language</th>\n",
              "      <th>Director</th>\n",
              "      <th>Cast</th>\n",
              "      <th>Genre</th>\n",
              "      <th>Plot</th>\n",
              "      <th>Rating</th>\n",
              "    </tr>\n",
              "  </thead>\n",
              "  <tbody>\n",
              "    <tr>\n",
              "      <th>0</th>\n",
              "      <td>2011</td>\n",
              "      <td>Venghai</td>\n",
              "      <td>Tamil</td>\n",
              "      <td>Hari</td>\n",
              "      <td>Dhanush, Tamannaah Bhatia, Rajkiran</td>\n",
              "      <td>drama</td>\n",
              "      <td>Veera Pandi (Raj Kiran) is a powerful and rich...</td>\n",
              "      <td>4.7</td>\n",
              "    </tr>\n",
              "    <tr>\n",
              "      <th>1</th>\n",
              "      <td>2011</td>\n",
              "      <td>Deiva Thirumagal</td>\n",
              "      <td>Tamil</td>\n",
              "      <td>A. L. Vijay</td>\n",
              "      <td>Vikram, Anushka Shetty, Amala Paul, Baby Sara</td>\n",
              "      <td>drama</td>\n",
              "      <td>Krishna (Vikram) is intellectually disabled an...</td>\n",
              "      <td>8.1</td>\n",
              "    </tr>\n",
              "    <tr>\n",
              "      <th>2</th>\n",
              "      <td>2011</td>\n",
              "      <td>Kanchana</td>\n",
              "      <td>Tamil</td>\n",
              "      <td>Raghava Lawrence</td>\n",
              "      <td>Raghava Lawrence, R. Sarathkumar, Lakshmi Rai</td>\n",
              "      <td>comedy horror</td>\n",
              "      <td>Raghava (Lawrence Raghavendra) is a typical jo...</td>\n",
              "      <td>6.6</td>\n",
              "    </tr>\n",
              "    <tr>\n",
              "      <th>3</th>\n",
              "      <td>2011</td>\n",
              "      <td>Karungali</td>\n",
              "      <td>Tamil</td>\n",
              "      <td>Kalanjiyam</td>\n",
              "      <td>Kalanjiyam, Anjali, Srinivas, Sunitha Varma, A...</td>\n",
              "      <td>drama</td>\n",
              "      <td>Kanimozhi[2](Sunitha Verma), a doctor by profe...</td>\n",
              "      <td>5.5</td>\n",
              "    </tr>\n",
              "    <tr>\n",
              "      <th>4</th>\n",
              "      <td>2011</td>\n",
              "      <td>Veppam</td>\n",
              "      <td>Tamil</td>\n",
              "      <td>Anjana Ali Khan</td>\n",
              "      <td>Karthik Kumar, Nani, Nithya Menen, Bindu Madhavi</td>\n",
              "      <td>drama</td>\n",
              "      <td>The film starts by showing a girl named Revath...</td>\n",
              "      <td>4.8</td>\n",
              "    </tr>\n",
              "  </tbody>\n",
              "</table>\n",
              "</div>\n",
              "      <button class=\"colab-df-convert\" onclick=\"convertToInteractive('df-ce1a864d-da54-448f-9ca0-ece9379abdab')\"\n",
              "              title=\"Convert this dataframe to an interactive table.\"\n",
              "              style=\"display:none;\">\n",
              "        \n",
              "  <svg xmlns=\"http://www.w3.org/2000/svg\" height=\"24px\"viewBox=\"0 0 24 24\"\n",
              "       width=\"24px\">\n",
              "    <path d=\"M0 0h24v24H0V0z\" fill=\"none\"/>\n",
              "    <path d=\"M18.56 5.44l.94 2.06.94-2.06 2.06-.94-2.06-.94-.94-2.06-.94 2.06-2.06.94zm-11 1L8.5 8.5l.94-2.06 2.06-.94-2.06-.94L8.5 2.5l-.94 2.06-2.06.94zm10 10l.94 2.06.94-2.06 2.06-.94-2.06-.94-.94-2.06-.94 2.06-2.06.94z\"/><path d=\"M17.41 7.96l-1.37-1.37c-.4-.4-.92-.59-1.43-.59-.52 0-1.04.2-1.43.59L10.3 9.45l-7.72 7.72c-.78.78-.78 2.05 0 2.83L4 21.41c.39.39.9.59 1.41.59.51 0 1.02-.2 1.41-.59l7.78-7.78 2.81-2.81c.8-.78.8-2.07 0-2.86zM5.41 20L4 18.59l7.72-7.72 1.47 1.35L5.41 20z\"/>\n",
              "  </svg>\n",
              "      </button>\n",
              "      \n",
              "  <style>\n",
              "    .colab-df-container {\n",
              "      display:flex;\n",
              "      flex-wrap:wrap;\n",
              "      gap: 12px;\n",
              "    }\n",
              "\n",
              "    .colab-df-convert {\n",
              "      background-color: #E8F0FE;\n",
              "      border: none;\n",
              "      border-radius: 50%;\n",
              "      cursor: pointer;\n",
              "      display: none;\n",
              "      fill: #1967D2;\n",
              "      height: 32px;\n",
              "      padding: 0 0 0 0;\n",
              "      width: 32px;\n",
              "    }\n",
              "\n",
              "    .colab-df-convert:hover {\n",
              "      background-color: #E2EBFA;\n",
              "      box-shadow: 0px 1px 2px rgba(60, 64, 67, 0.3), 0px 1px 3px 1px rgba(60, 64, 67, 0.15);\n",
              "      fill: #174EA6;\n",
              "    }\n",
              "\n",
              "    [theme=dark] .colab-df-convert {\n",
              "      background-color: #3B4455;\n",
              "      fill: #D2E3FC;\n",
              "    }\n",
              "\n",
              "    [theme=dark] .colab-df-convert:hover {\n",
              "      background-color: #434B5C;\n",
              "      box-shadow: 0px 1px 3px 1px rgba(0, 0, 0, 0.15);\n",
              "      filter: drop-shadow(0px 1px 2px rgba(0, 0, 0, 0.3));\n",
              "      fill: #FFFFFF;\n",
              "    }\n",
              "  </style>\n",
              "\n",
              "      <script>\n",
              "        const buttonEl =\n",
              "          document.querySelector('#df-ce1a864d-da54-448f-9ca0-ece9379abdab button.colab-df-convert');\n",
              "        buttonEl.style.display =\n",
              "          google.colab.kernel.accessAllowed ? 'block' : 'none';\n",
              "\n",
              "        async function convertToInteractive(key) {\n",
              "          const element = document.querySelector('#df-ce1a864d-da54-448f-9ca0-ece9379abdab');\n",
              "          const dataTable =\n",
              "            await google.colab.kernel.invokeFunction('convertToInteractive',\n",
              "                                                     [key], {});\n",
              "          if (!dataTable) return;\n",
              "\n",
              "          const docLinkHtml = 'Like what you see? Visit the ' +\n",
              "            '<a target=\"_blank\" href=https://colab.research.google.com/notebooks/data_table.ipynb>data table notebook</a>'\n",
              "            + ' to learn more about interactive tables.';\n",
              "          element.innerHTML = '';\n",
              "          dataTable['output_type'] = 'display_data';\n",
              "          await google.colab.output.renderOutput(dataTable, element);\n",
              "          const docLink = document.createElement('div');\n",
              "          docLink.innerHTML = docLinkHtml;\n",
              "          element.appendChild(docLink);\n",
              "        }\n",
              "      </script>\n",
              "    </div>\n",
              "  </div>\n",
              "  "
            ]
          },
          "metadata": {},
          "execution_count": 4
        }
      ],
      "source": [
        "df.head(5)"
      ]
    },
    {
      "cell_type": "code",
      "execution_count": 5,
      "id": "8b758714",
      "metadata": {
        "colab": {
          "base_uri": "https://localhost:8080/"
        },
        "id": "8b758714",
        "outputId": "14d1cae4-4803-4dac-b056-cbcaf345e3ce"
      },
      "outputs": [
        {
          "output_type": "execute_result",
          "data": {
            "text/plain": [
              "0                    Dhanush, Tamannaah Bhatia, Rajkiran\n",
              "1          Vikram, Anushka Shetty, Amala Paul, Baby Sara\n",
              "2          Raghava Lawrence, R. Sarathkumar, Lakshmi Rai\n",
              "3      Kalanjiyam, Anjali, Srinivas, Sunitha Varma, A...\n",
              "4       Karthik Kumar, Nani, Nithya Menen, Bindu Madhavi\n",
              "                             ...                        \n",
              "411    Sibi Sathyaraj, Remya Nambeesan, Varalaxmi Sar...\n",
              "412    Sundeep Kishan, Lavanya Tripathi, Daniel Balaj...\n",
              "413      Aditi Balan, Lakshmi Gopalswami, Shwetha Shekar\n",
              "414       Gokul Anand, Rajesh Balachandiran, Anju Kurian\n",
              "415    Sivakarthikeyan, Nayanthara, Fahadh Faasil, Sneha\n",
              "Name: Cast, Length: 416, dtype: object"
            ]
          },
          "metadata": {},
          "execution_count": 5
        }
      ],
      "source": [
        "df[\"Cast\"]"
      ]
    },
    {
      "cell_type": "code",
      "execution_count": 6,
      "id": "8127fc7a",
      "metadata": {
        "colab": {
          "base_uri": "https://localhost:8080/"
        },
        "id": "8127fc7a",
        "outputId": "fc06511d-4177-4445-896c-8dc6c0539800"
      },
      "outputs": [
        {
          "output_type": "stream",
          "name": "stderr",
          "text": [
            "<ipython-input-6-7a53d3926fcc>:4: SettingWithCopyWarning: \n",
            "A value is trying to be set on a copy of a slice from a DataFrame\n",
            "\n",
            "See the caveats in the documentation: https://pandas.pydata.org/pandas-docs/stable/user_guide/indexing.html#returning-a-view-versus-a-copy\n",
            "  df['Cast'][i]=n\n"
          ]
        }
      ],
      "source": [
        "#converting the cast into list\n",
        "for i in range (len(df['Cast'])):\n",
        "    n=df['Cast'][i].split(',')\n",
        "    df['Cast'][i]=n"
      ]
    },
    {
      "cell_type": "code",
      "execution_count": 7,
      "id": "5a62b447",
      "metadata": {
        "colab": {
          "base_uri": "https://localhost:8080/"
        },
        "id": "5a62b447",
        "outputId": "69ff150a-dd96-4b5a-adea-64b6009fad3f"
      },
      "outputs": [
        {
          "output_type": "execute_result",
          "data": {
            "text/plain": [
              "0                [Dhanush,  Tamannaah Bhatia,  Rajkiran]\n",
              "1      [Vikram,  Anushka Shetty,  Amala Paul,  Baby S...\n",
              "2      [Raghava Lawrence,  R. Sarathkumar,  Lakshmi Rai]\n",
              "3      [Kalanjiyam,  Anjali,  Srinivas,  Sunitha Varm...\n",
              "4      [Karthik Kumar,  Nani,  Nithya Menen,  Bindu M...\n",
              "                             ...                        \n",
              "411    [Sibi Sathyaraj,  Remya Nambeesan,  Varalaxmi ...\n",
              "412    [Sundeep Kishan,  Lavanya Tripathi,  Daniel Ba...\n",
              "413    [Aditi Balan,  Lakshmi Gopalswami,  Shwetha Sh...\n",
              "414    [Gokul Anand,  Rajesh Balachandiran,  Anju Kur...\n",
              "415    [Sivakarthikeyan,  Nayanthara,  Fahadh Faasil,...\n",
              "Name: Cast, Length: 416, dtype: object"
            ]
          },
          "metadata": {},
          "execution_count": 7
        }
      ],
      "source": [
        "df['Cast']"
      ]
    },
    {
      "cell_type": "code",
      "source": [
        "df['Genre']"
      ],
      "metadata": {
        "colab": {
          "base_uri": "https://localhost:8080/"
        },
        "id": "R6DzqwN81RW4",
        "outputId": "b4ac9699-a332-4491-93d6-a2f4fa442b16"
      },
      "id": "R6DzqwN81RW4",
      "execution_count": 8,
      "outputs": [
        {
          "output_type": "execute_result",
          "data": {
            "text/plain": [
              "0                drama\n",
              "1                drama\n",
              "2        comedy horror\n",
              "3                drama\n",
              "4                drama\n",
              "            ...       \n",
              "411     crime thriller\n",
              "412       action drama\n",
              "413       social drama\n",
              "414    romantic comedy\n",
              "415           thriller\n",
              "Name: Genre, Length: 416, dtype: object"
            ]
          },
          "metadata": {},
          "execution_count": 8
        }
      ]
    },
    {
      "cell_type": "code",
      "execution_count": 9,
      "id": "abac5ee5",
      "metadata": {
        "colab": {
          "base_uri": "https://localhost:8080/"
        },
        "id": "abac5ee5",
        "outputId": "c5dfa61d-6b30-4dcd-800c-17673ade3b8e"
      },
      "outputs": [
        {
          "output_type": "stream",
          "name": "stderr",
          "text": [
            "<ipython-input-9-2306c0c4cc8e>:4: SettingWithCopyWarning: \n",
            "A value is trying to be set on a copy of a slice from a DataFrame\n",
            "\n",
            "See the caveats in the documentation: https://pandas.pydata.org/pandas-docs/stable/user_guide/indexing.html#returning-a-view-versus-a-copy\n",
            "  df['Genre'][i]=n\n"
          ]
        }
      ],
      "source": [
        "#converting the genre into list\n",
        "for i in range (len(df['Genre'])):\n",
        "    n=df['Genre'][i].split(',')\n",
        "    df['Genre'][i]=n"
      ]
    },
    {
      "cell_type": "code",
      "execution_count": 10,
      "id": "0a1c9b22",
      "metadata": {
        "colab": {
          "base_uri": "https://localhost:8080/"
        },
        "id": "0a1c9b22",
        "outputId": "d0ef0c71-e6d4-4732-c432-b035b92336bd"
      },
      "outputs": [
        {
          "output_type": "stream",
          "name": "stderr",
          "text": [
            "<ipython-input-10-e8746ea5b366>:4: SettingWithCopyWarning: \n",
            "A value is trying to be set on a copy of a slice from a DataFrame\n",
            "\n",
            "See the caveats in the documentation: https://pandas.pydata.org/pandas-docs/stable/user_guide/indexing.html#returning-a-view-versus-a-copy\n",
            "  df['Director'][i]=n\n"
          ]
        }
      ],
      "source": [
        "#converting the director to list\n",
        "for i in range (len(df['Director'])):\n",
        "    n=df['Director'][i].split(',')\n",
        "    df['Director'][i]=n"
      ]
    },
    {
      "cell_type": "code",
      "execution_count": 11,
      "id": "b0c731e2",
      "metadata": {
        "colab": {
          "base_uri": "https://localhost:8080/",
          "height": 239
        },
        "id": "b0c731e2",
        "outputId": "b6713c69-2245-4ce0-aa29-3c2b5644063f"
      },
      "outputs": [
        {
          "output_type": "execute_result",
          "data": {
            "text/plain": [
              "   Release Year             Title Language            Director  \\\n",
              "0          2011           Venghai    Tamil              [Hari]   \n",
              "1          2011  Deiva Thirumagal    Tamil       [A. L. Vijay]   \n",
              "2          2011          Kanchana    Tamil  [Raghava Lawrence]   \n",
              "\n",
              "                                                Cast            Genre  \\\n",
              "0            [Dhanush,  Tamannaah Bhatia,  Rajkiran]          [drama]   \n",
              "1  [Vikram,  Anushka Shetty,  Amala Paul,  Baby S...          [drama]   \n",
              "2  [Raghava Lawrence,  R. Sarathkumar,  Lakshmi Rai]  [comedy horror]   \n",
              "\n",
              "                                                Plot  Rating  \n",
              "0  Veera Pandi (Raj Kiran) is a powerful and rich...     4.7  \n",
              "1  Krishna (Vikram) is intellectually disabled an...     8.1  \n",
              "2  Raghava (Lawrence Raghavendra) is a typical jo...     6.6  "
            ],
            "text/html": [
              "\n",
              "  <div id=\"df-6cd25be0-3077-4879-8f57-169fcc46a313\">\n",
              "    <div class=\"colab-df-container\">\n",
              "      <div>\n",
              "<style scoped>\n",
              "    .dataframe tbody tr th:only-of-type {\n",
              "        vertical-align: middle;\n",
              "    }\n",
              "\n",
              "    .dataframe tbody tr th {\n",
              "        vertical-align: top;\n",
              "    }\n",
              "\n",
              "    .dataframe thead th {\n",
              "        text-align: right;\n",
              "    }\n",
              "</style>\n",
              "<table border=\"1\" class=\"dataframe\">\n",
              "  <thead>\n",
              "    <tr style=\"text-align: right;\">\n",
              "      <th></th>\n",
              "      <th>Release Year</th>\n",
              "      <th>Title</th>\n",
              "      <th>Language</th>\n",
              "      <th>Director</th>\n",
              "      <th>Cast</th>\n",
              "      <th>Genre</th>\n",
              "      <th>Plot</th>\n",
              "      <th>Rating</th>\n",
              "    </tr>\n",
              "  </thead>\n",
              "  <tbody>\n",
              "    <tr>\n",
              "      <th>0</th>\n",
              "      <td>2011</td>\n",
              "      <td>Venghai</td>\n",
              "      <td>Tamil</td>\n",
              "      <td>[Hari]</td>\n",
              "      <td>[Dhanush,  Tamannaah Bhatia,  Rajkiran]</td>\n",
              "      <td>[drama]</td>\n",
              "      <td>Veera Pandi (Raj Kiran) is a powerful and rich...</td>\n",
              "      <td>4.7</td>\n",
              "    </tr>\n",
              "    <tr>\n",
              "      <th>1</th>\n",
              "      <td>2011</td>\n",
              "      <td>Deiva Thirumagal</td>\n",
              "      <td>Tamil</td>\n",
              "      <td>[A. L. Vijay]</td>\n",
              "      <td>[Vikram,  Anushka Shetty,  Amala Paul,  Baby S...</td>\n",
              "      <td>[drama]</td>\n",
              "      <td>Krishna (Vikram) is intellectually disabled an...</td>\n",
              "      <td>8.1</td>\n",
              "    </tr>\n",
              "    <tr>\n",
              "      <th>2</th>\n",
              "      <td>2011</td>\n",
              "      <td>Kanchana</td>\n",
              "      <td>Tamil</td>\n",
              "      <td>[Raghava Lawrence]</td>\n",
              "      <td>[Raghava Lawrence,  R. Sarathkumar,  Lakshmi Rai]</td>\n",
              "      <td>[comedy horror]</td>\n",
              "      <td>Raghava (Lawrence Raghavendra) is a typical jo...</td>\n",
              "      <td>6.6</td>\n",
              "    </tr>\n",
              "  </tbody>\n",
              "</table>\n",
              "</div>\n",
              "      <button class=\"colab-df-convert\" onclick=\"convertToInteractive('df-6cd25be0-3077-4879-8f57-169fcc46a313')\"\n",
              "              title=\"Convert this dataframe to an interactive table.\"\n",
              "              style=\"display:none;\">\n",
              "        \n",
              "  <svg xmlns=\"http://www.w3.org/2000/svg\" height=\"24px\"viewBox=\"0 0 24 24\"\n",
              "       width=\"24px\">\n",
              "    <path d=\"M0 0h24v24H0V0z\" fill=\"none\"/>\n",
              "    <path d=\"M18.56 5.44l.94 2.06.94-2.06 2.06-.94-2.06-.94-.94-2.06-.94 2.06-2.06.94zm-11 1L8.5 8.5l.94-2.06 2.06-.94-2.06-.94L8.5 2.5l-.94 2.06-2.06.94zm10 10l.94 2.06.94-2.06 2.06-.94-2.06-.94-.94-2.06-.94 2.06-2.06.94z\"/><path d=\"M17.41 7.96l-1.37-1.37c-.4-.4-.92-.59-1.43-.59-.52 0-1.04.2-1.43.59L10.3 9.45l-7.72 7.72c-.78.78-.78 2.05 0 2.83L4 21.41c.39.39.9.59 1.41.59.51 0 1.02-.2 1.41-.59l7.78-7.78 2.81-2.81c.8-.78.8-2.07 0-2.86zM5.41 20L4 18.59l7.72-7.72 1.47 1.35L5.41 20z\"/>\n",
              "  </svg>\n",
              "      </button>\n",
              "      \n",
              "  <style>\n",
              "    .colab-df-container {\n",
              "      display:flex;\n",
              "      flex-wrap:wrap;\n",
              "      gap: 12px;\n",
              "    }\n",
              "\n",
              "    .colab-df-convert {\n",
              "      background-color: #E8F0FE;\n",
              "      border: none;\n",
              "      border-radius: 50%;\n",
              "      cursor: pointer;\n",
              "      display: none;\n",
              "      fill: #1967D2;\n",
              "      height: 32px;\n",
              "      padding: 0 0 0 0;\n",
              "      width: 32px;\n",
              "    }\n",
              "\n",
              "    .colab-df-convert:hover {\n",
              "      background-color: #E2EBFA;\n",
              "      box-shadow: 0px 1px 2px rgba(60, 64, 67, 0.3), 0px 1px 3px 1px rgba(60, 64, 67, 0.15);\n",
              "      fill: #174EA6;\n",
              "    }\n",
              "\n",
              "    [theme=dark] .colab-df-convert {\n",
              "      background-color: #3B4455;\n",
              "      fill: #D2E3FC;\n",
              "    }\n",
              "\n",
              "    [theme=dark] .colab-df-convert:hover {\n",
              "      background-color: #434B5C;\n",
              "      box-shadow: 0px 1px 3px 1px rgba(0, 0, 0, 0.15);\n",
              "      filter: drop-shadow(0px 1px 2px rgba(0, 0, 0, 0.3));\n",
              "      fill: #FFFFFF;\n",
              "    }\n",
              "  </style>\n",
              "\n",
              "      <script>\n",
              "        const buttonEl =\n",
              "          document.querySelector('#df-6cd25be0-3077-4879-8f57-169fcc46a313 button.colab-df-convert');\n",
              "        buttonEl.style.display =\n",
              "          google.colab.kernel.accessAllowed ? 'block' : 'none';\n",
              "\n",
              "        async function convertToInteractive(key) {\n",
              "          const element = document.querySelector('#df-6cd25be0-3077-4879-8f57-169fcc46a313');\n",
              "          const dataTable =\n",
              "            await google.colab.kernel.invokeFunction('convertToInteractive',\n",
              "                                                     [key], {});\n",
              "          if (!dataTable) return;\n",
              "\n",
              "          const docLinkHtml = 'Like what you see? Visit the ' +\n",
              "            '<a target=\"_blank\" href=https://colab.research.google.com/notebooks/data_table.ipynb>data table notebook</a>'\n",
              "            + ' to learn more about interactive tables.';\n",
              "          element.innerHTML = '';\n",
              "          dataTable['output_type'] = 'display_data';\n",
              "          await google.colab.output.renderOutput(dataTable, element);\n",
              "          const docLink = document.createElement('div');\n",
              "          docLink.innerHTML = docLinkHtml;\n",
              "          element.appendChild(docLink);\n",
              "        }\n",
              "      </script>\n",
              "    </div>\n",
              "  </div>\n",
              "  "
            ]
          },
          "metadata": {},
          "execution_count": 11
        }
      ],
      "source": [
        "df.head(3)"
      ]
    },
    {
      "cell_type": "code",
      "execution_count": 12,
      "id": "c5de37ba",
      "metadata": {
        "colab": {
          "base_uri": "https://localhost:8080/"
        },
        "id": "c5de37ba",
        "outputId": "bdbccec8-4a79-4998-85a3-3476e613476e"
      },
      "outputs": [
        {
          "output_type": "execute_result",
          "data": {
            "text/plain": [
              "0                        [Hari]\n",
              "1                   [A.L.Vijay]\n",
              "2             [RaghavaLawrence]\n",
              "3                  [Kalanjiyam]\n",
              "4               [AnjanaAliKhan]\n",
              "                 ...           \n",
              "411     [PradeepKrishnamoorthy]\n",
              "412                 [C.V.Kumar]\n",
              "413    [ArunPrabuPurushothaman]\n",
              "414                [AbbasAkbar]\n",
              "415                 [MohanRaja]\n",
              "Name: Director, Length: 416, dtype: object"
            ]
          },
          "metadata": {},
          "execution_count": 12
        }
      ],
      "source": [
        "#Replacing the blank spaces with \"\" using lambda function\n",
        "df[\"Director\"].apply(lambda x:[i.replace(\" \",\"\")for i in x])"
      ]
    },
    {
      "cell_type": "code",
      "execution_count": 13,
      "id": "22a51770",
      "metadata": {
        "id": "22a51770"
      },
      "outputs": [],
      "source": [
        "#Replacing the . with \"\" using lambda function\n",
        "df[\"Director\"]=df[\"Director\"].apply(lambda x:[i.replace(\".\",\"\")for i in x])"
      ]
    },
    {
      "cell_type": "code",
      "execution_count": 14,
      "id": "0f7ca482",
      "metadata": {
        "id": "0f7ca482"
      },
      "outputs": [],
      "source": [
        "df[\"Director\"]=df[\"Director\"].apply(lambda x:[i.replace(\" \",\"\")for i in x])"
      ]
    },
    {
      "cell_type": "code",
      "execution_count": 15,
      "id": "1b36d4ec",
      "metadata": {
        "colab": {
          "base_uri": "https://localhost:8080/"
        },
        "id": "1b36d4ec",
        "outputId": "d6121780-9c8f-4089-cb77-01c6e3e894cc"
      },
      "outputs": [
        {
          "output_type": "execute_result",
          "data": {
            "text/plain": [
              "0               [Hari]\n",
              "1            [ALVijay]\n",
              "2    [RaghavaLawrence]\n",
              "3         [Kalanjiyam]\n",
              "4      [AnjanaAliKhan]\n",
              "Name: Director, dtype: object"
            ]
          },
          "metadata": {},
          "execution_count": 15
        }
      ],
      "source": [
        "df[\"Director\"].head(5)"
      ]
    },
    {
      "cell_type": "code",
      "execution_count": 16,
      "id": "3f0e471b",
      "metadata": {
        "id": "3f0e471b"
      },
      "outputs": [],
      "source": [
        "#Replacing the blank spaces with \"\" using lambda function\n",
        "df[\"Cast\"]=df[\"Cast\"].apply(lambda x:[i.replace(\" \",\"\")for i in x])"
      ]
    },
    {
      "cell_type": "code",
      "execution_count": 17,
      "id": "ba5c44f2",
      "metadata": {
        "colab": {
          "base_uri": "https://localhost:8080/"
        },
        "id": "ba5c44f2",
        "outputId": "7d90e6a2-ed89-45f7-88c7-c3428f7f0eef"
      },
      "outputs": [
        {
          "output_type": "execute_result",
          "data": {
            "text/plain": [
              "0                   [Dhanush, TamannaahBhatia, Rajkiran]\n",
              "1           [Vikram, AnushkaShetty, AmalaPaul, BabySara]\n",
              "2           [RaghavaLawrence, R.Sarathkumar, LakshmiRai]\n",
              "3      [Kalanjiyam, Anjali, Srinivas, SunithaVarma, A...\n",
              "4        [KarthikKumar, Nani, NithyaMenen, BinduMadhavi]\n",
              "                             ...                        \n",
              "411    [SibiSathyaraj, RemyaNambeesan, VaralaxmiSarat...\n",
              "412    [SundeepKishan, LavanyaTripathi, DanielBalaji,...\n",
              "413       [AditiBalan, LakshmiGopalswami, ShwethaShekar]\n",
              "414        [GokulAnand, RajeshBalachandiran, AnjuKurian]\n",
              "415    [Sivakarthikeyan, Nayanthara, FahadhFaasil, Sn...\n",
              "Name: Cast, Length: 416, dtype: object"
            ]
          },
          "metadata": {},
          "execution_count": 17
        }
      ],
      "source": [
        "df[\"Cast\"]"
      ]
    },
    {
      "cell_type": "code",
      "execution_count": 23,
      "id": "e10e7b4b",
      "metadata": {
        "id": "e10e7b4b"
      },
      "outputs": [],
      "source": [
        "#converting the list to string \n",
        "def listtostring(x):\n",
        "    for i in range(len(df)):\n",
        "        df[x][i]=' '.join(map(str,df[x][i]))\n",
        "    "
      ]
    },
    {
      "cell_type": "code",
      "execution_count": 24,
      "id": "f2f7fcde",
      "metadata": {
        "colab": {
          "base_uri": "https://localhost:8080/"
        },
        "id": "f2f7fcde",
        "outputId": "47d28ded-e75c-41b3-ea7a-1116dc30c07c"
      },
      "outputs": [
        {
          "output_type": "stream",
          "name": "stderr",
          "text": [
            "<ipython-input-23-4f24c1ff4098>:3: SettingWithCopyWarning: \n",
            "A value is trying to be set on a copy of a slice from a DataFrame\n",
            "\n",
            "See the caveats in the documentation: https://pandas.pydata.org/pandas-docs/stable/user_guide/indexing.html#returning-a-view-versus-a-copy\n",
            "  df[x][i]=' '.join(map(str,df[x][i]))\n"
          ]
        }
      ],
      "source": [
        "listtostring(\"Director\")"
      ]
    },
    {
      "cell_type": "code",
      "execution_count": 25,
      "id": "4ace7cea",
      "metadata": {
        "colab": {
          "base_uri": "https://localhost:8080/"
        },
        "id": "4ace7cea",
        "outputId": "ffe87a30-15cc-49c6-ab25-3777f196c85b"
      },
      "outputs": [
        {
          "output_type": "stream",
          "name": "stderr",
          "text": [
            "<ipython-input-23-4f24c1ff4098>:3: SettingWithCopyWarning: \n",
            "A value is trying to be set on a copy of a slice from a DataFrame\n",
            "\n",
            "See the caveats in the documentation: https://pandas.pydata.org/pandas-docs/stable/user_guide/indexing.html#returning-a-view-versus-a-copy\n",
            "  df[x][i]=' '.join(map(str,df[x][i]))\n"
          ]
        }
      ],
      "source": [
        "listtostring(\"Genre\")"
      ]
    },
    {
      "cell_type": "code",
      "execution_count": 26,
      "id": "77714e0b",
      "metadata": {
        "colab": {
          "base_uri": "https://localhost:8080/",
          "height": 208
        },
        "id": "77714e0b",
        "outputId": "0c5a1f3a-f4fb-455a-adf0-ded210103a97"
      },
      "outputs": [
        {
          "output_type": "execute_result",
          "data": {
            "text/plain": [
              "   Release Year             Title Language Director  \\\n",
              "0          2011           Venghai    Tamil     Hari   \n",
              "1          2011  Deiva Thirumagal    Tamil  ALVijay   \n",
              "\n",
              "                                      Cast  Genre  \\\n",
              "0         Dhanush TamannaahBhatia Rajkiran  drama   \n",
              "1  Vikram AnushkaShetty AmalaPaul BabySara  drama   \n",
              "\n",
              "                                                Plot  Rating  \\\n",
              "0  Veera Pandi (Raj Kiran) is a powerful and rich...     4.7   \n",
              "1  Krishna (Vikram) is intellectually disabled an...     8.1   \n",
              "\n",
              "                                       tags_of_films  \n",
              "0  [Hari, Dhanush, TamannaahBhatia, Rajkiran, drama]  \n",
              "1  [ALVijay, Vikram, AnushkaShetty, AmalaPaul, Ba...  "
            ],
            "text/html": [
              "\n",
              "  <div id=\"df-59f9da37-3abb-4a29-b57a-ee5cca960e60\">\n",
              "    <div class=\"colab-df-container\">\n",
              "      <div>\n",
              "<style scoped>\n",
              "    .dataframe tbody tr th:only-of-type {\n",
              "        vertical-align: middle;\n",
              "    }\n",
              "\n",
              "    .dataframe tbody tr th {\n",
              "        vertical-align: top;\n",
              "    }\n",
              "\n",
              "    .dataframe thead th {\n",
              "        text-align: right;\n",
              "    }\n",
              "</style>\n",
              "<table border=\"1\" class=\"dataframe\">\n",
              "  <thead>\n",
              "    <tr style=\"text-align: right;\">\n",
              "      <th></th>\n",
              "      <th>Release Year</th>\n",
              "      <th>Title</th>\n",
              "      <th>Language</th>\n",
              "      <th>Director</th>\n",
              "      <th>Cast</th>\n",
              "      <th>Genre</th>\n",
              "      <th>Plot</th>\n",
              "      <th>Rating</th>\n",
              "      <th>tags_of_films</th>\n",
              "    </tr>\n",
              "  </thead>\n",
              "  <tbody>\n",
              "    <tr>\n",
              "      <th>0</th>\n",
              "      <td>2011</td>\n",
              "      <td>Venghai</td>\n",
              "      <td>Tamil</td>\n",
              "      <td>Hari</td>\n",
              "      <td>Dhanush TamannaahBhatia Rajkiran</td>\n",
              "      <td>drama</td>\n",
              "      <td>Veera Pandi (Raj Kiran) is a powerful and rich...</td>\n",
              "      <td>4.7</td>\n",
              "      <td>[Hari, Dhanush, TamannaahBhatia, Rajkiran, drama]</td>\n",
              "    </tr>\n",
              "    <tr>\n",
              "      <th>1</th>\n",
              "      <td>2011</td>\n",
              "      <td>Deiva Thirumagal</td>\n",
              "      <td>Tamil</td>\n",
              "      <td>ALVijay</td>\n",
              "      <td>Vikram AnushkaShetty AmalaPaul BabySara</td>\n",
              "      <td>drama</td>\n",
              "      <td>Krishna (Vikram) is intellectually disabled an...</td>\n",
              "      <td>8.1</td>\n",
              "      <td>[ALVijay, Vikram, AnushkaShetty, AmalaPaul, Ba...</td>\n",
              "    </tr>\n",
              "  </tbody>\n",
              "</table>\n",
              "</div>\n",
              "      <button class=\"colab-df-convert\" onclick=\"convertToInteractive('df-59f9da37-3abb-4a29-b57a-ee5cca960e60')\"\n",
              "              title=\"Convert this dataframe to an interactive table.\"\n",
              "              style=\"display:none;\">\n",
              "        \n",
              "  <svg xmlns=\"http://www.w3.org/2000/svg\" height=\"24px\"viewBox=\"0 0 24 24\"\n",
              "       width=\"24px\">\n",
              "    <path d=\"M0 0h24v24H0V0z\" fill=\"none\"/>\n",
              "    <path d=\"M18.56 5.44l.94 2.06.94-2.06 2.06-.94-2.06-.94-.94-2.06-.94 2.06-2.06.94zm-11 1L8.5 8.5l.94-2.06 2.06-.94-2.06-.94L8.5 2.5l-.94 2.06-2.06.94zm10 10l.94 2.06.94-2.06 2.06-.94-2.06-.94-.94-2.06-.94 2.06-2.06.94z\"/><path d=\"M17.41 7.96l-1.37-1.37c-.4-.4-.92-.59-1.43-.59-.52 0-1.04.2-1.43.59L10.3 9.45l-7.72 7.72c-.78.78-.78 2.05 0 2.83L4 21.41c.39.39.9.59 1.41.59.51 0 1.02-.2 1.41-.59l7.78-7.78 2.81-2.81c.8-.78.8-2.07 0-2.86zM5.41 20L4 18.59l7.72-7.72 1.47 1.35L5.41 20z\"/>\n",
              "  </svg>\n",
              "      </button>\n",
              "      \n",
              "  <style>\n",
              "    .colab-df-container {\n",
              "      display:flex;\n",
              "      flex-wrap:wrap;\n",
              "      gap: 12px;\n",
              "    }\n",
              "\n",
              "    .colab-df-convert {\n",
              "      background-color: #E8F0FE;\n",
              "      border: none;\n",
              "      border-radius: 50%;\n",
              "      cursor: pointer;\n",
              "      display: none;\n",
              "      fill: #1967D2;\n",
              "      height: 32px;\n",
              "      padding: 0 0 0 0;\n",
              "      width: 32px;\n",
              "    }\n",
              "\n",
              "    .colab-df-convert:hover {\n",
              "      background-color: #E2EBFA;\n",
              "      box-shadow: 0px 1px 2px rgba(60, 64, 67, 0.3), 0px 1px 3px 1px rgba(60, 64, 67, 0.15);\n",
              "      fill: #174EA6;\n",
              "    }\n",
              "\n",
              "    [theme=dark] .colab-df-convert {\n",
              "      background-color: #3B4455;\n",
              "      fill: #D2E3FC;\n",
              "    }\n",
              "\n",
              "    [theme=dark] .colab-df-convert:hover {\n",
              "      background-color: #434B5C;\n",
              "      box-shadow: 0px 1px 3px 1px rgba(0, 0, 0, 0.15);\n",
              "      filter: drop-shadow(0px 1px 2px rgba(0, 0, 0, 0.3));\n",
              "      fill: #FFFFFF;\n",
              "    }\n",
              "  </style>\n",
              "\n",
              "      <script>\n",
              "        const buttonEl =\n",
              "          document.querySelector('#df-59f9da37-3abb-4a29-b57a-ee5cca960e60 button.colab-df-convert');\n",
              "        buttonEl.style.display =\n",
              "          google.colab.kernel.accessAllowed ? 'block' : 'none';\n",
              "\n",
              "        async function convertToInteractive(key) {\n",
              "          const element = document.querySelector('#df-59f9da37-3abb-4a29-b57a-ee5cca960e60');\n",
              "          const dataTable =\n",
              "            await google.colab.kernel.invokeFunction('convertToInteractive',\n",
              "                                                     [key], {});\n",
              "          if (!dataTable) return;\n",
              "\n",
              "          const docLinkHtml = 'Like what you see? Visit the ' +\n",
              "            '<a target=\"_blank\" href=https://colab.research.google.com/notebooks/data_table.ipynb>data table notebook</a>'\n",
              "            + ' to learn more about interactive tables.';\n",
              "          element.innerHTML = '';\n",
              "          dataTable['output_type'] = 'display_data';\n",
              "          await google.colab.output.renderOutput(dataTable, element);\n",
              "          const docLink = document.createElement('div');\n",
              "          docLink.innerHTML = docLinkHtml;\n",
              "          element.appendChild(docLink);\n",
              "        }\n",
              "      </script>\n",
              "    </div>\n",
              "  </div>\n",
              "  "
            ]
          },
          "metadata": {},
          "execution_count": 26
        }
      ],
      "source": [
        "df.head(2)"
      ]
    },
    {
      "cell_type": "code",
      "execution_count": 27,
      "id": "5d050dc6",
      "metadata": {
        "id": "5d050dc6"
      },
      "outputs": [],
      "source": [
        "df.drop(\"tags_of_films\",inplace=True,axis=1)"
      ]
    },
    {
      "cell_type": "code",
      "execution_count": 29,
      "id": "290baf04",
      "metadata": {
        "id": "290baf04"
      },
      "outputs": [],
      "source": [
        "#combining all the columns to make a newcolumn\n",
        "df[\"tags_movies\"]=df[\"Director\"]+df[\"Cast\"]+df[\"Genre\"]+df[\"Plot\"]"
      ]
    },
    {
      "cell_type": "code",
      "execution_count": 30,
      "id": "ca9ea17c",
      "metadata": {
        "colab": {
          "base_uri": "https://localhost:8080/",
          "height": 139
        },
        "id": "ca9ea17c",
        "outputId": "34c3eaba-ada9-4328-864f-53e48136f1ea"
      },
      "outputs": [
        {
          "output_type": "execute_result",
          "data": {
            "text/plain": [
              "\"HariDhanush TamannaahBhatia RajkirandramaVeera Pandi (Raj Kiran) is a powerful and rich man in Pandiapuram in the Sivagangai district. Selvam (Dhanush) is his son, who is a lot more responsible and affectionate towards his family. Rajalingam (Prakash Raj) is the local MLA whose victory is backed by Veera Pandi’s support. But Rajalingam is money minded and pretends to act as a good human while he wants to cheat Veera Pandi and make more money through politics. One day, Selvam gets into a clash with a group of thugs following which Veera Pandi sends Selvam to Trichy to stay with his uncle so that he can have a peaceful life ahead.\\r\\nIn Trichy, Selvam meets Radhika (Tamannaah), his childhood friend and tries to befriend her. But Radhika avoids Selvam pretending that she does not recognize Selvam. Slowly Selvam and Radhika become good friends. Selvam proposes to Radhika, but she remains calm and tells that she needs time to think about it.\\r\\nMeanwhile, Veera Pandi gets to know about the true identity of Rajalingam and prevents him from involving in corruption which angers Rajalingam and he decides to revenge Veera Pandi by killing Selvam. Rajalingam sends a few thugs to Trichy to kill Selvam. Veera Pandi gets to know about his plans and rushes to Trichy to save Selvam. Radhika becomes fearful upon seeing a group of violent men with Selvam and prefers not to disclose her love.\\r\\nRajalingam becomes a minister now and he openly challenges Veera Pandi as he doesn't depend on Veera Pandi’s support hereafter. Selvam gets back to Pandiapuram to safeguard his family from Rajalingam. Radhika gets to know that it was Selvam who helped her uncle by recovering the money invested in a disputed land and she decides to convey her love to Selvam. Radhika requests Selvam to stay away from his family, so that they can lead a peaceful life. Selvam gets furious hearing this and ditches Radhika saying that his family is more important to him than anything else in the world.\\r\\nLater, Radhika realizes her mistake and apologizes to Selvam following which both of them get reunited. Radhika visits Selvam’s house often. Rajalingam plans to kill Veera Pandi knowing about his train journey based on the information from a stranger. But, Selvam comes to the rescue. Suddenly, Veera Pandi realizes that a poisoned coffee and is rushed to the hospital immediately, where his life was saved. Selvam esquires about the incident and finally gets shocked to know that it was Radhika, who poisoned Veera Pandi's coffee, while also informing Rajalingam about Veera Pandi’s travel plans.\\r\\nSelvam rushes to Radhika’s home, where Radhika’s mother and grandfather stated that Veera Pandi killed Radhika’s father years ago and they were waiting for a right opportunity to revenge. But, Veera Pandi also comes to Radhika’s home and tells a flashback about the true incident behind the murder of Radhika’s father. He also clarifies that it was not him who killed her father. Now, Radhika’s family feels guilty about their acts. Selvam feels bad that Radhika cheated him in the name of love and leaves her.\\r\\nThe next day, Radhika’s family apologizes to Veera Pandi and informs that they are leaving to another town. Veera Pandi and his wife Thangam (Urvasi) forgives Radhika’s mistake and urges Selvam to accept Radhika which he does. Selvam and Radhika get united. Finally, Selvam and his friends decide to kill Rajalingam which they do successfully.\""
            ],
            "application/vnd.google.colaboratory.intrinsic+json": {
              "type": "string"
            }
          },
          "metadata": {},
          "execution_count": 30
        }
      ],
      "source": [
        "df[\"tags_movies\"][0]"
      ]
    },
    {
      "cell_type": "code",
      "execution_count": 31,
      "id": "937db90a",
      "metadata": {
        "colab": {
          "base_uri": "https://localhost:8080/"
        },
        "id": "937db90a",
        "outputId": "e9290df3-aed1-47f4-b98e-ff03dcd2a197"
      },
      "outputs": [
        {
          "output_type": "stream",
          "name": "stderr",
          "text": [
            "<ipython-input-31-4a8f207e43d6>:3: SettingWithCopyWarning: \n",
            "A value is trying to be set on a copy of a slice from a DataFrame\n",
            "\n",
            "See the caveats in the documentation: https://pandas.pydata.org/pandas-docs/stable/user_guide/indexing.html#returning-a-view-versus-a-copy\n",
            "  df[\"Plot\"][i]=df[\"Plot\"][i].replace('\\r\\n',\"\")\n"
          ]
        }
      ],
      "source": [
        "#Removing the \\r\\n\n",
        "for i in range(len(df)):\n",
        "    df[\"Plot\"][i]=df[\"Plot\"][i].replace('\\r\\n',\"\")"
      ]
    },
    {
      "cell_type": "code",
      "execution_count": 32,
      "id": "217600dd",
      "metadata": {
        "colab": {
          "base_uri": "https://localhost:8080/",
          "height": 354
        },
        "id": "217600dd",
        "outputId": "79f9f0e7-80bc-4eb4-87a6-d2f82250220d"
      },
      "outputs": [
        {
          "output_type": "execute_result",
          "data": {
            "text/plain": [
              "   Release Year             Title Language         Director  \\\n",
              "0          2011           Venghai    Tamil             Hari   \n",
              "1          2011  Deiva Thirumagal    Tamil          ALVijay   \n",
              "2          2011          Kanchana    Tamil  RaghavaLawrence   \n",
              "3          2011         Karungali    Tamil       Kalanjiyam   \n",
              "4          2011            Veppam    Tamil    AnjanaAliKhan   \n",
              "\n",
              "                                              Cast          Genre  \\\n",
              "0                 Dhanush TamannaahBhatia Rajkiran          drama   \n",
              "1          Vikram AnushkaShetty AmalaPaul BabySara          drama   \n",
              "2         RaghavaLawrence R.Sarathkumar LakshmiRai  comedy horror   \n",
              "3  Kalanjiyam Anjali Srinivas SunithaVarma Asmitha          drama   \n",
              "4       KarthikKumar Nani NithyaMenen BinduMadhavi          drama   \n",
              "\n",
              "                                                Plot  Rating  \\\n",
              "0  Veera Pandi (Raj Kiran) is a powerful and rich...     4.7   \n",
              "1  Krishna (Vikram) is intellectually disabled an...     8.1   \n",
              "2  Raghava (Lawrence Raghavendra) is a typical jo...     6.6   \n",
              "3  Kanimozhi[2](Sunitha Verma), a doctor by profe...     5.5   \n",
              "4  The film starts by showing a girl named Revath...     4.8   \n",
              "\n",
              "                                         tags_movies  \n",
              "0  HariDhanush TamannaahBhatia RajkirandramaVeera...  \n",
              "1  ALVijayVikram AnushkaShetty AmalaPaul BabySara...  \n",
              "2  RaghavaLawrenceRaghavaLawrence R.Sarathkumar L...  \n",
              "3  KalanjiyamKalanjiyam Anjali Srinivas SunithaVa...  \n",
              "4  AnjanaAliKhanKarthikKumar Nani NithyaMenen Bin...  "
            ],
            "text/html": [
              "\n",
              "  <div id=\"df-92a57a7d-ae2f-4f7f-b411-0d81ad2b858c\">\n",
              "    <div class=\"colab-df-container\">\n",
              "      <div>\n",
              "<style scoped>\n",
              "    .dataframe tbody tr th:only-of-type {\n",
              "        vertical-align: middle;\n",
              "    }\n",
              "\n",
              "    .dataframe tbody tr th {\n",
              "        vertical-align: top;\n",
              "    }\n",
              "\n",
              "    .dataframe thead th {\n",
              "        text-align: right;\n",
              "    }\n",
              "</style>\n",
              "<table border=\"1\" class=\"dataframe\">\n",
              "  <thead>\n",
              "    <tr style=\"text-align: right;\">\n",
              "      <th></th>\n",
              "      <th>Release Year</th>\n",
              "      <th>Title</th>\n",
              "      <th>Language</th>\n",
              "      <th>Director</th>\n",
              "      <th>Cast</th>\n",
              "      <th>Genre</th>\n",
              "      <th>Plot</th>\n",
              "      <th>Rating</th>\n",
              "      <th>tags_movies</th>\n",
              "    </tr>\n",
              "  </thead>\n",
              "  <tbody>\n",
              "    <tr>\n",
              "      <th>0</th>\n",
              "      <td>2011</td>\n",
              "      <td>Venghai</td>\n",
              "      <td>Tamil</td>\n",
              "      <td>Hari</td>\n",
              "      <td>Dhanush TamannaahBhatia Rajkiran</td>\n",
              "      <td>drama</td>\n",
              "      <td>Veera Pandi (Raj Kiran) is a powerful and rich...</td>\n",
              "      <td>4.7</td>\n",
              "      <td>HariDhanush TamannaahBhatia RajkirandramaVeera...</td>\n",
              "    </tr>\n",
              "    <tr>\n",
              "      <th>1</th>\n",
              "      <td>2011</td>\n",
              "      <td>Deiva Thirumagal</td>\n",
              "      <td>Tamil</td>\n",
              "      <td>ALVijay</td>\n",
              "      <td>Vikram AnushkaShetty AmalaPaul BabySara</td>\n",
              "      <td>drama</td>\n",
              "      <td>Krishna (Vikram) is intellectually disabled an...</td>\n",
              "      <td>8.1</td>\n",
              "      <td>ALVijayVikram AnushkaShetty AmalaPaul BabySara...</td>\n",
              "    </tr>\n",
              "    <tr>\n",
              "      <th>2</th>\n",
              "      <td>2011</td>\n",
              "      <td>Kanchana</td>\n",
              "      <td>Tamil</td>\n",
              "      <td>RaghavaLawrence</td>\n",
              "      <td>RaghavaLawrence R.Sarathkumar LakshmiRai</td>\n",
              "      <td>comedy horror</td>\n",
              "      <td>Raghava (Lawrence Raghavendra) is a typical jo...</td>\n",
              "      <td>6.6</td>\n",
              "      <td>RaghavaLawrenceRaghavaLawrence R.Sarathkumar L...</td>\n",
              "    </tr>\n",
              "    <tr>\n",
              "      <th>3</th>\n",
              "      <td>2011</td>\n",
              "      <td>Karungali</td>\n",
              "      <td>Tamil</td>\n",
              "      <td>Kalanjiyam</td>\n",
              "      <td>Kalanjiyam Anjali Srinivas SunithaVarma Asmitha</td>\n",
              "      <td>drama</td>\n",
              "      <td>Kanimozhi[2](Sunitha Verma), a doctor by profe...</td>\n",
              "      <td>5.5</td>\n",
              "      <td>KalanjiyamKalanjiyam Anjali Srinivas SunithaVa...</td>\n",
              "    </tr>\n",
              "    <tr>\n",
              "      <th>4</th>\n",
              "      <td>2011</td>\n",
              "      <td>Veppam</td>\n",
              "      <td>Tamil</td>\n",
              "      <td>AnjanaAliKhan</td>\n",
              "      <td>KarthikKumar Nani NithyaMenen BinduMadhavi</td>\n",
              "      <td>drama</td>\n",
              "      <td>The film starts by showing a girl named Revath...</td>\n",
              "      <td>4.8</td>\n",
              "      <td>AnjanaAliKhanKarthikKumar Nani NithyaMenen Bin...</td>\n",
              "    </tr>\n",
              "  </tbody>\n",
              "</table>\n",
              "</div>\n",
              "      <button class=\"colab-df-convert\" onclick=\"convertToInteractive('df-92a57a7d-ae2f-4f7f-b411-0d81ad2b858c')\"\n",
              "              title=\"Convert this dataframe to an interactive table.\"\n",
              "              style=\"display:none;\">\n",
              "        \n",
              "  <svg xmlns=\"http://www.w3.org/2000/svg\" height=\"24px\"viewBox=\"0 0 24 24\"\n",
              "       width=\"24px\">\n",
              "    <path d=\"M0 0h24v24H0V0z\" fill=\"none\"/>\n",
              "    <path d=\"M18.56 5.44l.94 2.06.94-2.06 2.06-.94-2.06-.94-.94-2.06-.94 2.06-2.06.94zm-11 1L8.5 8.5l.94-2.06 2.06-.94-2.06-.94L8.5 2.5l-.94 2.06-2.06.94zm10 10l.94 2.06.94-2.06 2.06-.94-2.06-.94-.94-2.06-.94 2.06-2.06.94z\"/><path d=\"M17.41 7.96l-1.37-1.37c-.4-.4-.92-.59-1.43-.59-.52 0-1.04.2-1.43.59L10.3 9.45l-7.72 7.72c-.78.78-.78 2.05 0 2.83L4 21.41c.39.39.9.59 1.41.59.51 0 1.02-.2 1.41-.59l7.78-7.78 2.81-2.81c.8-.78.8-2.07 0-2.86zM5.41 20L4 18.59l7.72-7.72 1.47 1.35L5.41 20z\"/>\n",
              "  </svg>\n",
              "      </button>\n",
              "      \n",
              "  <style>\n",
              "    .colab-df-container {\n",
              "      display:flex;\n",
              "      flex-wrap:wrap;\n",
              "      gap: 12px;\n",
              "    }\n",
              "\n",
              "    .colab-df-convert {\n",
              "      background-color: #E8F0FE;\n",
              "      border: none;\n",
              "      border-radius: 50%;\n",
              "      cursor: pointer;\n",
              "      display: none;\n",
              "      fill: #1967D2;\n",
              "      height: 32px;\n",
              "      padding: 0 0 0 0;\n",
              "      width: 32px;\n",
              "    }\n",
              "\n",
              "    .colab-df-convert:hover {\n",
              "      background-color: #E2EBFA;\n",
              "      box-shadow: 0px 1px 2px rgba(60, 64, 67, 0.3), 0px 1px 3px 1px rgba(60, 64, 67, 0.15);\n",
              "      fill: #174EA6;\n",
              "    }\n",
              "\n",
              "    [theme=dark] .colab-df-convert {\n",
              "      background-color: #3B4455;\n",
              "      fill: #D2E3FC;\n",
              "    }\n",
              "\n",
              "    [theme=dark] .colab-df-convert:hover {\n",
              "      background-color: #434B5C;\n",
              "      box-shadow: 0px 1px 3px 1px rgba(0, 0, 0, 0.15);\n",
              "      filter: drop-shadow(0px 1px 2px rgba(0, 0, 0, 0.3));\n",
              "      fill: #FFFFFF;\n",
              "    }\n",
              "  </style>\n",
              "\n",
              "      <script>\n",
              "        const buttonEl =\n",
              "          document.querySelector('#df-92a57a7d-ae2f-4f7f-b411-0d81ad2b858c button.colab-df-convert');\n",
              "        buttonEl.style.display =\n",
              "          google.colab.kernel.accessAllowed ? 'block' : 'none';\n",
              "\n",
              "        async function convertToInteractive(key) {\n",
              "          const element = document.querySelector('#df-92a57a7d-ae2f-4f7f-b411-0d81ad2b858c');\n",
              "          const dataTable =\n",
              "            await google.colab.kernel.invokeFunction('convertToInteractive',\n",
              "                                                     [key], {});\n",
              "          if (!dataTable) return;\n",
              "\n",
              "          const docLinkHtml = 'Like what you see? Visit the ' +\n",
              "            '<a target=\"_blank\" href=https://colab.research.google.com/notebooks/data_table.ipynb>data table notebook</a>'\n",
              "            + ' to learn more about interactive tables.';\n",
              "          element.innerHTML = '';\n",
              "          dataTable['output_type'] = 'display_data';\n",
              "          await google.colab.output.renderOutput(dataTable, element);\n",
              "          const docLink = document.createElement('div');\n",
              "          docLink.innerHTML = docLinkHtml;\n",
              "          element.appendChild(docLink);\n",
              "        }\n",
              "      </script>\n",
              "    </div>\n",
              "  </div>\n",
              "  "
            ]
          },
          "metadata": {},
          "execution_count": 32
        }
      ],
      "source": [
        "df.head(5)"
      ]
    },
    {
      "cell_type": "code",
      "execution_count": 33,
      "id": "6240bb9b",
      "metadata": {
        "id": "6240bb9b"
      },
      "outputs": [],
      "source": [
        "df.drop(\"tags_movies\",inplace=True,axis=1)"
      ]
    },
    {
      "cell_type": "code",
      "execution_count": 34,
      "id": "60ece46c",
      "metadata": {
        "id": "60ece46c"
      },
      "outputs": [],
      "source": [
        "df[\"tags_movies\"]=df[\"Director\"]+df[\"Cast\"]+df[\"Genre\"]+df[\"Plot\"]"
      ]
    },
    {
      "cell_type": "code",
      "execution_count": 35,
      "id": "2d67e637",
      "metadata": {
        "colab": {
          "base_uri": "https://localhost:8080/",
          "height": 139
        },
        "id": "2d67e637",
        "outputId": "ce9d63e5-30e4-4dd0-d49c-7a03c96c83f3"
      },
      "outputs": [
        {
          "output_type": "execute_result",
          "data": {
            "text/plain": [
              "\"HariDhanush TamannaahBhatia RajkirandramaVeera Pandi (Raj Kiran) is a powerful and rich man in Pandiapuram in the Sivagangai district. Selvam (Dhanush) is his son, who is a lot more responsible and affectionate towards his family. Rajalingam (Prakash Raj) is the local MLA whose victory is backed by Veera Pandi’s support. But Rajalingam is money minded and pretends to act as a good human while he wants to cheat Veera Pandi and make more money through politics. One day, Selvam gets into a clash with a group of thugs following which Veera Pandi sends Selvam to Trichy to stay with his uncle so that he can have a peaceful life ahead.In Trichy, Selvam meets Radhika (Tamannaah), his childhood friend and tries to befriend her. But Radhika avoids Selvam pretending that she does not recognize Selvam. Slowly Selvam and Radhika become good friends. Selvam proposes to Radhika, but she remains calm and tells that she needs time to think about it.Meanwhile, Veera Pandi gets to know about the true identity of Rajalingam and prevents him from involving in corruption which angers Rajalingam and he decides to revenge Veera Pandi by killing Selvam. Rajalingam sends a few thugs to Trichy to kill Selvam. Veera Pandi gets to know about his plans and rushes to Trichy to save Selvam. Radhika becomes fearful upon seeing a group of violent men with Selvam and prefers not to disclose her love.Rajalingam becomes a minister now and he openly challenges Veera Pandi as he doesn't depend on Veera Pandi’s support hereafter. Selvam gets back to Pandiapuram to safeguard his family from Rajalingam. Radhika gets to know that it was Selvam who helped her uncle by recovering the money invested in a disputed land and she decides to convey her love to Selvam. Radhika requests Selvam to stay away from his family, so that they can lead a peaceful life. Selvam gets furious hearing this and ditches Radhika saying that his family is more important to him than anything else in the world.Later, Radhika realizes her mistake and apologizes to Selvam following which both of them get reunited. Radhika visits Selvam’s house often. Rajalingam plans to kill Veera Pandi knowing about his train journey based on the information from a stranger. But, Selvam comes to the rescue. Suddenly, Veera Pandi realizes that a poisoned coffee and is rushed to the hospital immediately, where his life was saved. Selvam esquires about the incident and finally gets shocked to know that it was Radhika, who poisoned Veera Pandi's coffee, while also informing Rajalingam about Veera Pandi’s travel plans.Selvam rushes to Radhika’s home, where Radhika’s mother and grandfather stated that Veera Pandi killed Radhika’s father years ago and they were waiting for a right opportunity to revenge. But, Veera Pandi also comes to Radhika’s home and tells a flashback about the true incident behind the murder of Radhika’s father. He also clarifies that it was not him who killed her father. Now, Radhika’s family feels guilty about their acts. Selvam feels bad that Radhika cheated him in the name of love and leaves her.The next day, Radhika’s family apologizes to Veera Pandi and informs that they are leaving to another town. Veera Pandi and his wife Thangam (Urvasi) forgives Radhika’s mistake and urges Selvam to accept Radhika which he does. Selvam and Radhika get united. Finally, Selvam and his friends decide to kill Rajalingam which they do successfully.\""
            ],
            "application/vnd.google.colaboratory.intrinsic+json": {
              "type": "string"
            }
          },
          "metadata": {},
          "execution_count": 35
        }
      ],
      "source": [
        "df[\"tags_movies\"][0]"
      ]
    },
    {
      "cell_type": "code",
      "execution_count": 39,
      "id": "8b940527",
      "metadata": {
        "id": "8b940527"
      },
      "outputs": [],
      "source": [
        "#creating a new dataframe\n",
        "new_df=df[['Title','tags_movies','Release Year','Rating']]"
      ]
    },
    {
      "cell_type": "code",
      "execution_count": 40,
      "id": "f3cbe4e9",
      "metadata": {
        "colab": {
          "base_uri": "https://localhost:8080/",
          "height": 423
        },
        "id": "f3cbe4e9",
        "outputId": "c8202571-5197-4c8d-d9d7-d0fdd395c274"
      },
      "outputs": [
        {
          "output_type": "execute_result",
          "data": {
            "text/plain": [
              "                   Title                                        tags_movies  \\\n",
              "0                Venghai  HariDhanush TamannaahBhatia RajkirandramaVeera...   \n",
              "1       Deiva Thirumagal  ALVijayVikram AnushkaShetty AmalaPaul BabySara...   \n",
              "2               Kanchana  RaghavaLawrenceRaghavaLawrence R.Sarathkumar L...   \n",
              "3              Karungali  KalanjiyamKalanjiyam Anjali Srinivas SunithaVa...   \n",
              "4                 Veppam  AnjanaAliKhanKarthikKumar Nani NithyaMenen Bin...   \n",
              "..                   ...                                                ...   \n",
              "411               Sathya  PradeepKrishnamoorthySibiSathyaraj RemyaNambee...   \n",
              "412             Maayavan  CVKumarSundeepKishan LavanyaTripathi DanielBal...   \n",
              "413                Aruvi  ArunPrabuPurushothamanAditiBalan LakshmiGopals...   \n",
              "414  Chennai 2 Singapore  AbbasAkbarGokulAnand RajeshBalachandiran AnjuK...   \n",
              "415          Velaikkaran  MohanRajaSivakarthikeyan Nayanthara FahadhFaas...   \n",
              "\n",
              "     Release Year  Rating  \n",
              "0            2011     4.7  \n",
              "1            2011     8.1  \n",
              "2            2011     6.6  \n",
              "3            2011     5.5  \n",
              "4            2011     4.8  \n",
              "..            ...     ...  \n",
              "411          2017     5.5  \n",
              "412          2017     4.8  \n",
              "413          2017     8.5  \n",
              "414          2017     6.1  \n",
              "415          2017     6.4  \n",
              "\n",
              "[416 rows x 4 columns]"
            ],
            "text/html": [
              "\n",
              "  <div id=\"df-3e725d9e-ab6b-40c1-9260-360832c71b8b\">\n",
              "    <div class=\"colab-df-container\">\n",
              "      <div>\n",
              "<style scoped>\n",
              "    .dataframe tbody tr th:only-of-type {\n",
              "        vertical-align: middle;\n",
              "    }\n",
              "\n",
              "    .dataframe tbody tr th {\n",
              "        vertical-align: top;\n",
              "    }\n",
              "\n",
              "    .dataframe thead th {\n",
              "        text-align: right;\n",
              "    }\n",
              "</style>\n",
              "<table border=\"1\" class=\"dataframe\">\n",
              "  <thead>\n",
              "    <tr style=\"text-align: right;\">\n",
              "      <th></th>\n",
              "      <th>Title</th>\n",
              "      <th>tags_movies</th>\n",
              "      <th>Release Year</th>\n",
              "      <th>Rating</th>\n",
              "    </tr>\n",
              "  </thead>\n",
              "  <tbody>\n",
              "    <tr>\n",
              "      <th>0</th>\n",
              "      <td>Venghai</td>\n",
              "      <td>HariDhanush TamannaahBhatia RajkirandramaVeera...</td>\n",
              "      <td>2011</td>\n",
              "      <td>4.7</td>\n",
              "    </tr>\n",
              "    <tr>\n",
              "      <th>1</th>\n",
              "      <td>Deiva Thirumagal</td>\n",
              "      <td>ALVijayVikram AnushkaShetty AmalaPaul BabySara...</td>\n",
              "      <td>2011</td>\n",
              "      <td>8.1</td>\n",
              "    </tr>\n",
              "    <tr>\n",
              "      <th>2</th>\n",
              "      <td>Kanchana</td>\n",
              "      <td>RaghavaLawrenceRaghavaLawrence R.Sarathkumar L...</td>\n",
              "      <td>2011</td>\n",
              "      <td>6.6</td>\n",
              "    </tr>\n",
              "    <tr>\n",
              "      <th>3</th>\n",
              "      <td>Karungali</td>\n",
              "      <td>KalanjiyamKalanjiyam Anjali Srinivas SunithaVa...</td>\n",
              "      <td>2011</td>\n",
              "      <td>5.5</td>\n",
              "    </tr>\n",
              "    <tr>\n",
              "      <th>4</th>\n",
              "      <td>Veppam</td>\n",
              "      <td>AnjanaAliKhanKarthikKumar Nani NithyaMenen Bin...</td>\n",
              "      <td>2011</td>\n",
              "      <td>4.8</td>\n",
              "    </tr>\n",
              "    <tr>\n",
              "      <th>...</th>\n",
              "      <td>...</td>\n",
              "      <td>...</td>\n",
              "      <td>...</td>\n",
              "      <td>...</td>\n",
              "    </tr>\n",
              "    <tr>\n",
              "      <th>411</th>\n",
              "      <td>Sathya</td>\n",
              "      <td>PradeepKrishnamoorthySibiSathyaraj RemyaNambee...</td>\n",
              "      <td>2017</td>\n",
              "      <td>5.5</td>\n",
              "    </tr>\n",
              "    <tr>\n",
              "      <th>412</th>\n",
              "      <td>Maayavan</td>\n",
              "      <td>CVKumarSundeepKishan LavanyaTripathi DanielBal...</td>\n",
              "      <td>2017</td>\n",
              "      <td>4.8</td>\n",
              "    </tr>\n",
              "    <tr>\n",
              "      <th>413</th>\n",
              "      <td>Aruvi</td>\n",
              "      <td>ArunPrabuPurushothamanAditiBalan LakshmiGopals...</td>\n",
              "      <td>2017</td>\n",
              "      <td>8.5</td>\n",
              "    </tr>\n",
              "    <tr>\n",
              "      <th>414</th>\n",
              "      <td>Chennai 2 Singapore</td>\n",
              "      <td>AbbasAkbarGokulAnand RajeshBalachandiran AnjuK...</td>\n",
              "      <td>2017</td>\n",
              "      <td>6.1</td>\n",
              "    </tr>\n",
              "    <tr>\n",
              "      <th>415</th>\n",
              "      <td>Velaikkaran</td>\n",
              "      <td>MohanRajaSivakarthikeyan Nayanthara FahadhFaas...</td>\n",
              "      <td>2017</td>\n",
              "      <td>6.4</td>\n",
              "    </tr>\n",
              "  </tbody>\n",
              "</table>\n",
              "<p>416 rows × 4 columns</p>\n",
              "</div>\n",
              "      <button class=\"colab-df-convert\" onclick=\"convertToInteractive('df-3e725d9e-ab6b-40c1-9260-360832c71b8b')\"\n",
              "              title=\"Convert this dataframe to an interactive table.\"\n",
              "              style=\"display:none;\">\n",
              "        \n",
              "  <svg xmlns=\"http://www.w3.org/2000/svg\" height=\"24px\"viewBox=\"0 0 24 24\"\n",
              "       width=\"24px\">\n",
              "    <path d=\"M0 0h24v24H0V0z\" fill=\"none\"/>\n",
              "    <path d=\"M18.56 5.44l.94 2.06.94-2.06 2.06-.94-2.06-.94-.94-2.06-.94 2.06-2.06.94zm-11 1L8.5 8.5l.94-2.06 2.06-.94-2.06-.94L8.5 2.5l-.94 2.06-2.06.94zm10 10l.94 2.06.94-2.06 2.06-.94-2.06-.94-.94-2.06-.94 2.06-2.06.94z\"/><path d=\"M17.41 7.96l-1.37-1.37c-.4-.4-.92-.59-1.43-.59-.52 0-1.04.2-1.43.59L10.3 9.45l-7.72 7.72c-.78.78-.78 2.05 0 2.83L4 21.41c.39.39.9.59 1.41.59.51 0 1.02-.2 1.41-.59l7.78-7.78 2.81-2.81c.8-.78.8-2.07 0-2.86zM5.41 20L4 18.59l7.72-7.72 1.47 1.35L5.41 20z\"/>\n",
              "  </svg>\n",
              "      </button>\n",
              "      \n",
              "  <style>\n",
              "    .colab-df-container {\n",
              "      display:flex;\n",
              "      flex-wrap:wrap;\n",
              "      gap: 12px;\n",
              "    }\n",
              "\n",
              "    .colab-df-convert {\n",
              "      background-color: #E8F0FE;\n",
              "      border: none;\n",
              "      border-radius: 50%;\n",
              "      cursor: pointer;\n",
              "      display: none;\n",
              "      fill: #1967D2;\n",
              "      height: 32px;\n",
              "      padding: 0 0 0 0;\n",
              "      width: 32px;\n",
              "    }\n",
              "\n",
              "    .colab-df-convert:hover {\n",
              "      background-color: #E2EBFA;\n",
              "      box-shadow: 0px 1px 2px rgba(60, 64, 67, 0.3), 0px 1px 3px 1px rgba(60, 64, 67, 0.15);\n",
              "      fill: #174EA6;\n",
              "    }\n",
              "\n",
              "    [theme=dark] .colab-df-convert {\n",
              "      background-color: #3B4455;\n",
              "      fill: #D2E3FC;\n",
              "    }\n",
              "\n",
              "    [theme=dark] .colab-df-convert:hover {\n",
              "      background-color: #434B5C;\n",
              "      box-shadow: 0px 1px 3px 1px rgba(0, 0, 0, 0.15);\n",
              "      filter: drop-shadow(0px 1px 2px rgba(0, 0, 0, 0.3));\n",
              "      fill: #FFFFFF;\n",
              "    }\n",
              "  </style>\n",
              "\n",
              "      <script>\n",
              "        const buttonEl =\n",
              "          document.querySelector('#df-3e725d9e-ab6b-40c1-9260-360832c71b8b button.colab-df-convert');\n",
              "        buttonEl.style.display =\n",
              "          google.colab.kernel.accessAllowed ? 'block' : 'none';\n",
              "\n",
              "        async function convertToInteractive(key) {\n",
              "          const element = document.querySelector('#df-3e725d9e-ab6b-40c1-9260-360832c71b8b');\n",
              "          const dataTable =\n",
              "            await google.colab.kernel.invokeFunction('convertToInteractive',\n",
              "                                                     [key], {});\n",
              "          if (!dataTable) return;\n",
              "\n",
              "          const docLinkHtml = 'Like what you see? Visit the ' +\n",
              "            '<a target=\"_blank\" href=https://colab.research.google.com/notebooks/data_table.ipynb>data table notebook</a>'\n",
              "            + ' to learn more about interactive tables.';\n",
              "          element.innerHTML = '';\n",
              "          dataTable['output_type'] = 'display_data';\n",
              "          await google.colab.output.renderOutput(dataTable, element);\n",
              "          const docLink = document.createElement('div');\n",
              "          docLink.innerHTML = docLinkHtml;\n",
              "          element.appendChild(docLink);\n",
              "        }\n",
              "      </script>\n",
              "    </div>\n",
              "  </div>\n",
              "  "
            ]
          },
          "metadata": {},
          "execution_count": 40
        }
      ],
      "source": [
        "new_df"
      ]
    },
    {
      "cell_type": "code",
      "execution_count": 41,
      "id": "5dcd8f96",
      "metadata": {
        "colab": {
          "base_uri": "https://localhost:8080/"
        },
        "id": "5dcd8f96",
        "outputId": "8512abd4-2a51-47a3-9ded-95ce1a248a86"
      },
      "outputs": [
        {
          "output_type": "stream",
          "name": "stderr",
          "text": [
            "<ipython-input-41-0ef320bd0e86>:1: SettingWithCopyWarning: \n",
            "A value is trying to be set on a copy of a slice from a DataFrame.\n",
            "Try using .loc[row_indexer,col_indexer] = value instead\n",
            "\n",
            "See the caveats in the documentation: https://pandas.pydata.org/pandas-docs/stable/user_guide/indexing.html#returning-a-view-versus-a-copy\n",
            "  new_df[\"tags_movies\"]=new_df[\"tags_movies\"].apply(lambda x:x.lower())\n"
          ]
        }
      ],
      "source": [
        "#converting everything to lower\n",
        "new_df[\"tags_movies\"]=new_df[\"tags_movies\"].apply(lambda x:x.lower())"
      ]
    },
    {
      "cell_type": "code",
      "execution_count": 42,
      "id": "525fd5d8",
      "metadata": {
        "colab": {
          "base_uri": "https://localhost:8080/"
        },
        "id": "525fd5d8",
        "outputId": "56ab35fa-2894-440d-fcd1-a7acfda39d4e"
      },
      "outputs": [
        {
          "output_type": "execute_result",
          "data": {
            "text/plain": [
              "Title            object\n",
              "tags_movies      object\n",
              "Release Year      int64\n",
              "Rating          float64\n",
              "dtype: object"
            ]
          },
          "metadata": {},
          "execution_count": 42
        }
      ],
      "source": [
        "new_df.dtypes"
      ]
    },
    {
      "cell_type": "code",
      "execution_count": 43,
      "id": "c2d0733e",
      "metadata": {
        "colab": {
          "base_uri": "https://localhost:8080/",
          "height": 139
        },
        "id": "c2d0733e",
        "outputId": "49f6a910-2633-4d10-a8d0-28562b4bd40e"
      },
      "outputs": [
        {
          "output_type": "execute_result",
          "data": {
            "text/plain": [
              "'alvijayvikram anushkashetty amalapaul babysaradramakrishna (vikram) is intellectually disabled and has the mental ability of a six-year old. he lives a peaceful life in the hill station of ooty. he is cared for by victor (krishna kumar), the owner of a chocolate factory where krishna works. one day he excitedly announces to the village that he will become a father. that night, his daughter is born, but his wife banumathy dies during childbirth. unable to grasp the concept of death, he simply accepts that his wife has \"gone to god\" and starts life as a father. he names his daughter nila, and raises her with love and care. she soon grows into a happy young girl (sara). with the help of victor and his other mentally challenged friends, krishna enrolls nila in school.nila adjusts herself to school life, and befriends the correspondent shwetha rajendran (amala paul), who develops a maternal bond with the girl. but when she sees nila with krishna and learns that it is his daughter, she recognises him from a photo her sister had shown of her lover. she realises nila is her sister\\'s daughter. she then refuses to let nila stay with her dad as she is scared krishna might unknowingly do something to his daughter. soon a scuffle starts between krishna and shwetha\\'s fiancé karthik (karthik kumar). it is broken up by the entry of shwetha\\'s father rajendran (sachin khedekar) who reveals that his other daughter was banumathy, who became estranged from him by choosing to marry krishna. he offers to take krishna and nila with him and claims that they are part of his family. victor agrees and sends them with rajendran.at a distance from chennai, rajendran tricks krishna into exiting the car, and abandons him. distraught, krishna wanders around the city asking passers-by where nila is. he eventually arrives at a court, where he meets lawyer vinod (santhanam) who assumes that he is rich, and promises him that his boss will defend him. he introduces him to his boss/colleague anuradha \"anu\" ragunathan (anushka shetty), who is hesitant to take up the case as she believes krishna to be a lunatic. but soon, victor arrives and explains krishna\\'s predicament and moved to tears, anu agrees to help him.she files a case against rajendran, but loses hope when she learns that rajendran\\'s lawyer is bashyam (nassar), a feared senior lawyer who has never lost a case. the case is then heard in the high court, with both party arguing to the custody of the child.finally, bashyam asks krishna about how he can raise his daughter then to support her financially. then after a quick show of father-daughter connection and affection, bashyam withdraws and loses the case voluntarily. giving krishna his custody of his daughter, bashyam leaves the court. after spending some time with his daughter, krishna then takes her back to shwetha, so that she will be raised financially stable and that she can become a doctor when she grows up. he returns to work at victor\\'s chocolate factory.'"
            ],
            "application/vnd.google.colaboratory.intrinsic+json": {
              "type": "string"
            }
          },
          "metadata": {},
          "execution_count": 43
        }
      ],
      "source": [
        "new_df[\"tags_movies\"][1]"
      ]
    },
    {
      "cell_type": "code",
      "source": [
        "import nltk\n",
        "from nltk.stem.porter import PorterStemmer\n",
        "ps=PorterStemmer()"
      ],
      "metadata": {
        "id": "BTZv4gmtm4I8"
      },
      "execution_count": 44,
      "outputs": [],
      "id": "BTZv4gmtm4I8"
    },
    {
      "cell_type": "code",
      "source": [
        "def stem(t):\n",
        "  x=[] \n",
        "  for i in t.split():\n",
        "    x.append(ps.stem(i))\n",
        "  s=\" \".join(x) \n",
        "  return s "
      ],
      "metadata": {
        "id": "gdFBYj9GqvqJ"
      },
      "id": "gdFBYj9GqvqJ",
      "execution_count": 45,
      "outputs": []
    },
    {
      "cell_type": "code",
      "source": [
        "new_df[\"tags_movies\"]=new_df[\"tags_movies\"].apply(stem)"
      ],
      "metadata": {
        "colab": {
          "base_uri": "https://localhost:8080/"
        },
        "id": "7QP_zi2mqypS",
        "outputId": "393f19f3-fd07-41b8-e794-2d0f236e002b"
      },
      "id": "7QP_zi2mqypS",
      "execution_count": 46,
      "outputs": [
        {
          "output_type": "stream",
          "name": "stderr",
          "text": [
            "<ipython-input-46-6d6668847f51>:1: SettingWithCopyWarning: \n",
            "A value is trying to be set on a copy of a slice from a DataFrame.\n",
            "Try using .loc[row_indexer,col_indexer] = value instead\n",
            "\n",
            "See the caveats in the documentation: https://pandas.pydata.org/pandas-docs/stable/user_guide/indexing.html#returning-a-view-versus-a-copy\n",
            "  new_df[\"tags_movies\"]=new_df[\"tags_movies\"].apply(stem)\n"
          ]
        }
      ]
    },
    {
      "cell_type": "code",
      "execution_count": 47,
      "id": "ae2a641a",
      "metadata": {
        "id": "ae2a641a"
      },
      "outputs": [],
      "source": [
        "#converting the movies to vectors\n",
        "from sklearn.feature_extraction.text import CountVectorizer\n",
        "cv= CountVectorizer(max_features=4000,stop_words='english')"
      ]
    },
    {
      "cell_type": "code",
      "execution_count": 49,
      "id": "32d1d330",
      "metadata": {
        "id": "32d1d330"
      },
      "outputs": [],
      "source": [
        "v=cv.fit_transform(new_df[\"tags_movies\"]).toarray()"
      ]
    },
    {
      "cell_type": "code",
      "source": [
        "cv.fit_transform(new_df[\"tags_movies\"]).toarray().shape"
      ],
      "metadata": {
        "colab": {
          "base_uri": "https://localhost:8080/"
        },
        "id": "fkzmcP3Emo9N",
        "outputId": "bc0a3837-3964-4934-91f1-b914f73a343d"
      },
      "id": "fkzmcP3Emo9N",
      "execution_count": 50,
      "outputs": [
        {
          "output_type": "execute_result",
          "data": {
            "text/plain": [
              "(416, 4000)"
            ]
          },
          "metadata": {},
          "execution_count": 50
        }
      ]
    },
    {
      "cell_type": "code",
      "execution_count": null,
      "id": "67180148",
      "metadata": {
        "id": "67180148"
      },
      "outputs": [],
      "source": [
        " #416 movies in 4000 words vector "
      ]
    },
    {
      "cell_type": "code",
      "source": [
        "cv.get_feature_names_out()"
      ],
      "metadata": {
        "colab": {
          "base_uri": "https://localhost:8080/"
        },
        "id": "acFPCrI5mmDP",
        "outputId": "28724745-9dd6-44d2-8be9-29aca6bc86a2"
      },
      "id": "acFPCrI5mmDP",
      "execution_count": 51,
      "outputs": [
        {
          "output_type": "execute_result",
          "data": {
            "text/plain": [
              "array(['00', '000', '10', ..., 'zen', 'zombi', 'zombies'], dtype=object)"
            ]
          },
          "metadata": {},
          "execution_count": 51
        }
      ]
    },
    {
      "cell_type": "code",
      "source": [
        "from sklearn.metrics.pairwise import cosine_similarity\n",
        "similarity=cosine_similarity(v)\n"
      ],
      "metadata": {
        "id": "Xe2IvPQRpoD0"
      },
      "id": "Xe2IvPQRpoD0",
      "execution_count": 52,
      "outputs": []
    },
    {
      "cell_type": "code",
      "source": [
        "similarity[1] "
      ],
      "metadata": {
        "colab": {
          "base_uri": "https://localhost:8080/"
        },
        "id": "3uLqqXsHt4RO",
        "outputId": "cac439c3-07a3-4c78-aaf2-5a3909ffb1e5"
      },
      "id": "3uLqqXsHt4RO",
      "execution_count": 53,
      "outputs": [
        {
          "output_type": "execute_result",
          "data": {
            "text/plain": [
              "array([0.15971351, 1.        , 0.26094317, 0.26412156, 0.27129954,\n",
              "       0.19235637, 0.27485569, 0.28220165, 0.21136864, 0.21967782,\n",
              "       0.17882961, 0.25810795, 0.23836065, 0.15795087, 0.25372877,\n",
              "       0.07476206, 0.23539076, 0.09480821, 0.30020573, 0.38059641,\n",
              "       0.10132927, 0.13908232, 0.33215392, 0.32457371, 0.26008644,\n",
              "       0.1202644 , 0.23206657, 0.18418559, 0.24928832, 0.05094355,\n",
              "       0.25167206, 0.25969195, 0.00562402, 0.1678641 , 0.22598921,\n",
              "       0.08663805, 0.27071926, 0.13694106, 0.33282705, 0.0240493 ,\n",
              "       0.22856001, 0.22124174, 0.14936564, 0.12938016, 0.06853256,\n",
              "       0.30916995, 0.23425699, 0.05951899, 0.25716455, 0.3348233 ,\n",
              "       0.17706598, 0.30027553, 0.13954715, 0.21298218, 0.31323936,\n",
              "       0.36497202, 0.03181424, 0.17489795, 0.223913  , 0.12673433,\n",
              "       0.07360937, 0.16012244, 0.24541834, 0.2316681 , 0.27761927,\n",
              "       0.16089152, 0.13063086, 0.11106954, 0.12344293, 0.23274798,\n",
              "       0.3996365 , 0.28500084, 0.29703055, 0.29453764, 0.10000173,\n",
              "       0.09123358, 0.06758186, 0.27281821, 0.24157882, 0.29658409,\n",
              "       0.18873729, 0.15447761, 0.24206173, 0.30326307, 0.14403955,\n",
              "       0.30525482, 0.29259986, 0.20647019, 0.34146624, 0.10931174,\n",
              "       0.24100254, 0.12525278, 0.22075413, 0.19113915, 0.13128985,\n",
              "       0.34433059, 0.18331061, 0.27929099, 0.10066532, 0.27735602,\n",
              "       0.32151343, 0.0298113 , 0.20246553, 0.31340385, 0.26750716,\n",
              "       0.10627194, 0.19103008, 0.22479734, 0.29192103, 0.104856  ,\n",
              "       0.24555881, 0.19590272, 0.13911938, 0.13424563, 0.25492084,\n",
              "       0.15385606, 0.2609014 , 0.20104441, 0.23219031, 0.13401492,\n",
              "       0.23787072, 0.30891139, 0.00928117, 0.17071836, 0.12505638,\n",
              "       0.09550364, 0.09358928, 0.14228799, 0.2628219 , 0.23597833,\n",
              "       0.32630139, 0.21841868, 0.30847705, 0.11771268, 0.11096082,\n",
              "       0.23207217, 0.24757775, 0.1247006 , 0.28926332, 0.10189674,\n",
              "       0.21265366, 0.25786169, 0.23164742, 0.21301707, 0.17497831,\n",
              "       0.19970982, 0.38572714, 0.03138137, 0.13496221, 0.04629652,\n",
              "       0.17073312, 0.21141822, 0.39512915, 0.23542293, 0.22900978,\n",
              "       0.08150042, 0.31543763, 0.21854906, 0.25983171, 0.28032858,\n",
              "       0.13130889, 0.21578769, 0.27883901, 0.21278414, 0.10728609,\n",
              "       0.0995442 , 0.09327183, 0.34623864, 0.31063077, 0.20573207,\n",
              "       0.36575572, 0.08677053, 0.22899986, 0.2589854 , 0.18121817,\n",
              "       0.34919561, 0.28495014, 0.23813079, 0.2021424 , 0.26404121,\n",
              "       0.22051928, 0.        , 0.15247218, 0.20998972, 0.202916  ,\n",
              "       0.14541336, 0.16522998, 0.09800746, 0.07611718, 0.27610515,\n",
              "       0.15655305, 0.08488134, 0.        , 0.28475297, 0.14323491,\n",
              "       0.20668053, 0.12325268, 0.08713859, 0.23818855, 0.21126114,\n",
              "       0.19506561, 0.11426329, 0.15103924, 0.24241735, 0.1500026 ,\n",
              "       0.25183383, 0.26302256, 0.28397187, 0.09046964, 0.28368468,\n",
              "       0.12293292, 0.25848304, 0.26963693, 0.03517318, 0.02545139,\n",
              "       0.26519093, 0.18828823, 0.13486853, 0.20740507, 0.02969085,\n",
              "       0.20839213, 0.01543217, 0.09196748, 0.        , 0.        ,\n",
              "       0.28746691, 0.28958313, 0.0794736 , 0.17461576, 0.32165082,\n",
              "       0.0695641 , 0.        , 0.21026737, 0.34173974, 0.15322025,\n",
              "       0.13125024, 0.22042304, 0.26552653, 0.2261104 , 0.13959649,\n",
              "       0.12256412, 0.29694494, 0.1282102 , 0.07608143, 0.17971976,\n",
              "       0.14208827, 0.15443074, 0.16317542, 0.0877257 , 0.35456675,\n",
              "       0.11674131, 0.18550729, 0.28284278, 0.22250868, 0.4065921 ,\n",
              "       0.16157803, 0.08426029, 0.18388723, 0.18415813, 0.1956317 ,\n",
              "       0.12135629, 0.31901419, 0.23822608, 0.12958482, 0.17427105,\n",
              "       0.2819619 , 0.19946451, 0.11042577, 0.16834948, 0.11520124,\n",
              "       0.08573575, 0.21520009, 0.36698182, 0.03104752, 0.31271051,\n",
              "       0.26171348, 0.27267192, 0.13471253, 0.07439605, 0.16478441,\n",
              "       0.22319188, 0.28654142, 0.20415326, 0.18658044, 0.07335244,\n",
              "       0.22902791, 0.16398529, 0.01543217, 0.20641015, 0.24557651,\n",
              "       0.32137411, 0.22079784, 0.24760144, 0.19185803, 0.07767018,\n",
              "       0.10112637, 0.32716205, 0.1499834 , 0.27599247, 0.        ,\n",
              "       0.13964482, 0.27998696, 0.34809985, 0.26659845, 0.12049223,\n",
              "       0.21182208, 0.26572102, 0.19707099, 0.24867197, 0.10553272,\n",
              "       0.24090139, 0.2098861 , 0.10498699, 0.28341883, 0.17755734,\n",
              "       0.36024958, 0.3538222 , 0.10123229, 0.14738036, 0.22390816,\n",
              "       0.24849018, 0.14859134, 0.36573728, 0.23112508, 0.10319492,\n",
              "       0.35472268, 0.32716114, 0.03181424, 0.01918471, 0.03471218,\n",
              "       0.24946827, 0.06539499, 0.05628904, 0.25522632, 0.21450314,\n",
              "       0.13078941, 0.3232671 , 0.10984546, 0.55384561, 0.25427054,\n",
              "       0.20462032, 0.20786863, 0.2077325 , 0.34966422, 0.24572667,\n",
              "       0.10011026, 0.17266237, 0.17652976, 0.14133984, 0.1078386 ,\n",
              "       0.15891455, 0.29964685, 0.21612081, 0.48796755, 0.18205309,\n",
              "       0.26735585, 0.32454511, 0.24897457, 0.27845019, 0.23825322,\n",
              "       0.14322081, 0.18371785, 0.08575991, 0.27700883, 0.20541412,\n",
              "       0.09538248, 0.25757154, 0.15842393, 0.39411118, 0.16269134,\n",
              "       0.01298811, 0.15752643, 0.36741573, 0.34465425, 0.28132043,\n",
              "       0.40654031, 0.23693114, 0.03391409, 0.27422647, 0.23065323,\n",
              "       0.28306926, 0.18826222, 0.26405763, 0.08290145, 0.16157803,\n",
              "       0.01018871, 0.26903921, 0.16750477, 0.31503992, 0.1886908 ,\n",
              "       0.28106431, 0.37116611, 0.19838545, 0.26640195, 0.19614393,\n",
              "       0.18898159, 0.27951866, 0.15432301, 0.18589924, 0.26777735,\n",
              "       0.06893085, 0.16975389, 0.17264981, 0.20423859, 0.25553811,\n",
              "       0.16224316, 0.27479272, 0.27945359, 0.1951134 , 0.25144238,\n",
              "       0.15347766, 0.17377981, 0.33469668, 0.15819812, 0.3089384 ,\n",
              "       0.22825368])"
            ]
          },
          "metadata": {},
          "execution_count": 53
        }
      ]
    },
    {
      "cell_type": "code",
      "source": [
        "#Afunction that predicts and returns the recommended movies\n",
        "def recommend(movie):\n",
        "  movieindex=new_df[new_df[\"Title\"]== movie].index[0]\n",
        "  distances=similarity[movieindex]\n",
        "  r=sorted(list(enumerate(similarity[movieindex])),reverse=True,key=lambda x:x[1])[1:6]\n",
        "  #recommended_list=recommmended[1:6]\n",
        "  for i in r:\n",
        "    print(new_df.iloc[i[0]].Title)\n",
        "  "
      ],
      "metadata": {
        "id": "ycl5NSUxvrED"
      },
      "id": "ycl5NSUxvrED",
      "execution_count": 55,
      "outputs": []
    },
    {
      "cell_type": "code",
      "source": [
        "recommend(\"Thuppakki\")"
      ],
      "metadata": {
        "colab": {
          "base_uri": "https://localhost:8080/"
        },
        "id": "7HkRH53drP2l",
        "outputId": "96a1ec4c-7500-4ff4-a251-ab6ed73427f4"
      },
      "id": "7HkRH53drP2l",
      "execution_count": 56,
      "outputs": [
        {
          "output_type": "stream",
          "name": "stdout",
          "text": [
            "Naduvula Konjam Pakkatha Kaanom\n",
            "Kamaraj\n",
            "Achcham Yenbadhu Madamaiyada\n",
            "Dharma Durai\n",
            "Yagavarayinum Naa Kaakka\n"
          ]
        }
      ]
    },
    {
      "cell_type": "code",
      "source": [
        "import pickle\n",
        "pickle.dump(new_df,open('movieslist.pkl','wb'))"
      ],
      "metadata": {
        "id": "xBS5slwQ5tX9"
      },
      "id": "xBS5slwQ5tX9",
      "execution_count": null,
      "outputs": []
    },
    {
      "cell_type": "code",
      "source": [
        "pickle.dump(new_df.to_dict(),open('movieslist.pkl','wb'))"
      ],
      "metadata": {
        "id": "rKYyHknicqwH"
      },
      "id": "rKYyHknicqwH",
      "execution_count": null,
      "outputs": []
    },
    {
      "cell_type": "code",
      "source": [
        "pickle.dump(similarity,open('similarity.pkl','wb'))"
      ],
      "metadata": {
        "id": "mHyF-Wv57BKJ"
      },
      "id": "mHyF-Wv57BKJ",
      "execution_count": null,
      "outputs": []
    },
    {
      "cell_type": "code",
      "source": [],
      "metadata": {
        "id": "0sEFlYl_idR7"
      },
      "id": "0sEFlYl_idR7",
      "execution_count": null,
      "outputs": []
    }
  ],
  "metadata": {
    "kernelspec": {
      "display_name": "Python 3",
      "language": "python",
      "name": "python3"
    },
    "language_info": {
      "codemirror_mode": {
        "name": "ipython",
        "version": 3
      },
      "file_extension": ".py",
      "mimetype": "text/x-python",
      "name": "python",
      "nbconvert_exporter": "python",
      "pygments_lexer": "ipython3",
      "version": "3.8.8"
    },
    "colab": {
      "provenance": []
    }
  },
  "nbformat": 4,
  "nbformat_minor": 5
}